{
 "cells": [
  {
   "cell_type": "code",
   "execution_count": 112,
   "id": "665165aa",
   "metadata": {},
   "outputs": [],
   "source": [
    "# Set the seed value for the notebook so the results are reproducible\n",
    "from numpy.random import seed\n",
    "seed(1)"
   ]
  },
  {
   "cell_type": "code",
   "execution_count": 113,
   "id": "6354356f",
   "metadata": {},
   "outputs": [
    {
     "data": {
      "text/plain": [
       "'2.2.4-tf'"
      ]
     },
     "execution_count": 113,
     "metadata": {},
     "output_type": "execute_result"
    }
   ],
   "source": [
    "import os\n",
    "import tensorflow as tf\n",
    "from tensorflow.keras.models import Sequential\n",
    "from tensorflow.keras.utils import to_categorical\n",
    "from tensorflow.keras.layers import Dense\n",
    "import numpy as np\n",
    "import pandas as pd\n",
    "import matplotlib.pyplot as plt\n",
    "\n",
    "import warnings\n",
    "warnings.filterwarnings(\"ignore\")\n",
    "from sklearn import metrics\n",
    "from sklearn.metrics import accuracy_score\n",
    "from matplotlib import style\n",
    "style.use(\"ggplot\")\n",
    "\n",
    "import tensorflow\n",
    "tensorflow.keras.__version__"
   ]
  },
  {
   "cell_type": "code",
   "execution_count": 114,
   "id": "d90a639d",
   "metadata": {},
   "outputs": [
    {
     "data": {
      "text/html": [
       "<div>\n",
       "<style scoped>\n",
       "    .dataframe tbody tr th:only-of-type {\n",
       "        vertical-align: middle;\n",
       "    }\n",
       "\n",
       "    .dataframe tbody tr th {\n",
       "        vertical-align: top;\n",
       "    }\n",
       "\n",
       "    .dataframe thead th {\n",
       "        text-align: right;\n",
       "    }\n",
       "</style>\n",
       "<table border=\"1\" class=\"dataframe\">\n",
       "  <thead>\n",
       "    <tr style=\"text-align: right;\">\n",
       "      <th></th>\n",
       "      <th>Date</th>\n",
       "      <th>Open</th>\n",
       "      <th>High</th>\n",
       "      <th>Low</th>\n",
       "      <th>Close</th>\n",
       "      <th>Adj Close</th>\n",
       "      <th>Volume</th>\n",
       "      <th>Close*</th>\n",
       "      <th>Adj Close**</th>\n",
       "      <th>Ticker</th>\n",
       "    </tr>\n",
       "  </thead>\n",
       "  <tbody>\n",
       "    <tr>\n",
       "      <th>0</th>\n",
       "      <td>2016-04-01</td>\n",
       "      <td>1232.3</td>\n",
       "      <td>1235.2</td>\n",
       "      <td>1209.2</td>\n",
       "      <td>1222.199951</td>\n",
       "      <td>1222.199951</td>\n",
       "      <td>1602</td>\n",
       "      <td>NaN</td>\n",
       "      <td>NaN</td>\n",
       "      <td>NaN</td>\n",
       "    </tr>\n",
       "    <tr>\n",
       "      <th>1</th>\n",
       "      <td>2016-04-04</td>\n",
       "      <td>1221.7</td>\n",
       "      <td>1222.3</td>\n",
       "      <td>1215</td>\n",
       "      <td>1218.000000</td>\n",
       "      <td>1218.000000</td>\n",
       "      <td>2038</td>\n",
       "      <td>NaN</td>\n",
       "      <td>NaN</td>\n",
       "      <td>NaN</td>\n",
       "    </tr>\n",
       "    <tr>\n",
       "      <th>2</th>\n",
       "      <td>2016-04-05</td>\n",
       "      <td>1215.4</td>\n",
       "      <td>1236.7</td>\n",
       "      <td>1215.4</td>\n",
       "      <td>1228.400024</td>\n",
       "      <td>1228.400024</td>\n",
       "      <td>477</td>\n",
       "      <td>NaN</td>\n",
       "      <td>NaN</td>\n",
       "      <td>NaN</td>\n",
       "    </tr>\n",
       "    <tr>\n",
       "      <th>3</th>\n",
       "      <td>2016-04-06</td>\n",
       "      <td>1230.4</td>\n",
       "      <td>1230.4</td>\n",
       "      <td>1217.6</td>\n",
       "      <td>1222.500000</td>\n",
       "      <td>1222.500000</td>\n",
       "      <td>248</td>\n",
       "      <td>NaN</td>\n",
       "      <td>NaN</td>\n",
       "      <td>NaN</td>\n",
       "    </tr>\n",
       "    <tr>\n",
       "      <th>4</th>\n",
       "      <td>2016-04-07</td>\n",
       "      <td>1224.8</td>\n",
       "      <td>1242.9</td>\n",
       "      <td>1224.6</td>\n",
       "      <td>1236.199951</td>\n",
       "      <td>1236.199951</td>\n",
       "      <td>375</td>\n",
       "      <td>NaN</td>\n",
       "      <td>NaN</td>\n",
       "      <td>NaN</td>\n",
       "    </tr>\n",
       "  </tbody>\n",
       "</table>\n",
       "</div>"
      ],
      "text/plain": [
       "         Date    Open    High     Low        Close    Adj Close Volume Close*  \\\n",
       "0  2016-04-01  1232.3  1235.2  1209.2  1222.199951  1222.199951   1602    NaN   \n",
       "1  2016-04-04  1221.7  1222.3    1215  1218.000000  1218.000000   2038    NaN   \n",
       "2  2016-04-05  1215.4  1236.7  1215.4  1228.400024  1228.400024    477    NaN   \n",
       "3  2016-04-06  1230.4  1230.4  1217.6  1222.500000  1222.500000    248    NaN   \n",
       "4  2016-04-07  1224.8  1242.9  1224.6  1236.199951  1236.199951    375    NaN   \n",
       "\n",
       "  Adj Close** Ticker  \n",
       "0         NaN    NaN  \n",
       "1         NaN    NaN  \n",
       "2         NaN    NaN  \n",
       "3         NaN    NaN  \n",
       "4         NaN    NaN  "
      ]
     },
     "execution_count": 114,
     "metadata": {},
     "output_type": "execute_result"
    }
   ],
   "source": [
    "import pandas, sys\n",
    "import pandas as pd\n",
    "\n",
    "\n",
    "gold = pd.read_csv(\"c:/Users/George Aziz/desktop/Final_Project/data/gold.csv\")\n",
    "btc = pd.read_csv(\"c:/Users/George Aziz/desktop/Final_Project/data/bitcoin.csv\")\n",
    "dollar = pd.read_csv(\"c:/Users/George Aziz/desktop/Final_Project/data/dollar.csv\")\n",
    "SP_500 = pd.read_csv(\"c:/Users/George Aziz/desktop/Final_Project/data/S&P500.csv\")\n",
    "\n",
    "model_one_btc = pd.concat ([gold, btc, dollar, SP_500])\n",
    "\n",
    "#model_one_btc.to_csv (\"c:/Users/George Aziz/desktop/Final_Project/data/model_one2_btc.csv\", index=False)\n",
    "\n",
    "model_one_btc.head()\n"
   ]
  },
  {
   "cell_type": "code",
   "execution_count": 127,
   "id": "3b65d22e",
   "metadata": {},
   "outputs": [
    {
     "data": {
      "text/plain": [
       "(5861, 7)"
      ]
     },
     "execution_count": 127,
     "metadata": {},
     "output_type": "execute_result"
    }
   ],
   "source": [
    "# Import the bitcoin-gold combined dataset, drop missing data\n",
    "model_one_btc = pd.read_csv(\"c:/Users/George Aziz/desktop/Final_Project/data/model_one5_btc.csv\")\n",
    "\n",
    "\n",
    "\n",
    "model_one_btc.shape"
   ]
  },
  {
   "cell_type": "code",
   "execution_count": 128,
   "id": "4e285f84",
   "metadata": {},
   "outputs": [
    {
     "data": {
      "text/html": [
       "<div>\n",
       "<style scoped>\n",
       "    .dataframe tbody tr th:only-of-type {\n",
       "        vertical-align: middle;\n",
       "    }\n",
       "\n",
       "    .dataframe tbody tr th {\n",
       "        vertical-align: top;\n",
       "    }\n",
       "\n",
       "    .dataframe thead th {\n",
       "        text-align: right;\n",
       "    }\n",
       "</style>\n",
       "<table border=\"1\" class=\"dataframe\">\n",
       "  <thead>\n",
       "    <tr style=\"text-align: right;\">\n",
       "      <th></th>\n",
       "      <th>Open</th>\n",
       "      <th>High</th>\n",
       "      <th>Low</th>\n",
       "      <th>Close</th>\n",
       "      <th>Adj Close</th>\n",
       "    </tr>\n",
       "  </thead>\n",
       "  <tbody>\n",
       "    <tr>\n",
       "      <th>count</th>\n",
       "      <td>5575.000000</td>\n",
       "      <td>5575.000000</td>\n",
       "      <td>5575.000000</td>\n",
       "      <td>4316.000000</td>\n",
       "      <td>4316.000000</td>\n",
       "    </tr>\n",
       "    <tr>\n",
       "      <th>mean</th>\n",
       "      <td>3692.749740</td>\n",
       "      <td>3775.483695</td>\n",
       "      <td>3608.079229</td>\n",
       "      <td>3972.824124</td>\n",
       "      <td>3972.824124</td>\n",
       "    </tr>\n",
       "    <tr>\n",
       "      <th>std</th>\n",
       "      <td>6544.353134</td>\n",
       "      <td>6768.640303</td>\n",
       "      <td>6313.841646</td>\n",
       "      <td>7457.971460</td>\n",
       "      <td>7457.971460</td>\n",
       "    </tr>\n",
       "    <tr>\n",
       "      <th>min</th>\n",
       "      <td>88.570000</td>\n",
       "      <td>89.000000</td>\n",
       "      <td>88.250000</td>\n",
       "      <td>88.590000</td>\n",
       "      <td>88.590000</td>\n",
       "    </tr>\n",
       "    <tr>\n",
       "      <th>25%</th>\n",
       "      <td>627.850000</td>\n",
       "      <td>638.850000</td>\n",
       "      <td>619.380000</td>\n",
       "      <td>99.120000</td>\n",
       "      <td>99.120000</td>\n",
       "    </tr>\n",
       "    <tr>\n",
       "      <th>50%</th>\n",
       "      <td>1841.900000</td>\n",
       "      <td>1855.800000</td>\n",
       "      <td>1829.800000</td>\n",
       "      <td>1290.600000</td>\n",
       "      <td>1290.600000</td>\n",
       "    </tr>\n",
       "    <tr>\n",
       "      <th>75%</th>\n",
       "      <td>3565.780000</td>\n",
       "      <td>3614.510000</td>\n",
       "      <td>3519.840000</td>\n",
       "      <td>5740.465000</td>\n",
       "      <td>5740.465000</td>\n",
       "    </tr>\n",
       "    <tr>\n",
       "      <th>max</th>\n",
       "      <td>61221.130000</td>\n",
       "      <td>61683.860000</td>\n",
       "      <td>59302.320000</td>\n",
       "      <td>61243.090000</td>\n",
       "      <td>61243.090000</td>\n",
       "    </tr>\n",
       "  </tbody>\n",
       "</table>\n",
       "</div>"
      ],
      "text/plain": [
       "               Open          High           Low         Close     Adj Close\n",
       "count   5575.000000   5575.000000   5575.000000   4316.000000   4316.000000\n",
       "mean    3692.749740   3775.483695   3608.079229   3972.824124   3972.824124\n",
       "std     6544.353134   6768.640303   6313.841646   7457.971460   7457.971460\n",
       "min       88.570000     89.000000     88.250000     88.590000     88.590000\n",
       "25%      627.850000    638.850000    619.380000     99.120000     99.120000\n",
       "50%     1841.900000   1855.800000   1829.800000   1290.600000   1290.600000\n",
       "75%     3565.780000   3614.510000   3519.840000   5740.465000   5740.465000\n",
       "max    61221.130000  61683.860000  59302.320000  61243.090000  61243.090000"
      ]
     },
     "execution_count": 128,
     "metadata": {},
     "output_type": "execute_result"
    }
   ],
   "source": [
    "model_one_btc.describe()"
   ]
  },
  {
   "cell_type": "code",
   "execution_count": 129,
   "id": "5fcad35b",
   "metadata": {},
   "outputs": [
    {
     "data": {
      "text/plain": [
       "Index(['Date', 'Open', 'High', 'Low', 'Close', 'Adj Close', 'Ticker'], dtype='object')"
      ]
     },
     "execution_count": 129,
     "metadata": {},
     "output_type": "execute_result"
    }
   ],
   "source": [
    "model_one_btc.columns"
   ]
  },
  {
   "cell_type": "code",
   "execution_count": 130,
   "id": "e8489ed7",
   "metadata": {},
   "outputs": [],
   "source": [
    "from sklearn.preprocessing import LabelEncoder\n",
    "le = LabelEncoder()"
   ]
  },
  {
   "cell_type": "code",
   "execution_count": 131,
   "id": "e3613118",
   "metadata": {},
   "outputs": [
    {
     "data": {
      "text/plain": [
       "<bound method _flex_comp_method_FRAME.<locals>.f of           Date     Open     High      Low   Close  Adj Close  Ticker\n",
       "0     4/1/2016  1232.30  1235.20  1209.20  1222.2     1222.2       3\n",
       "1     4/4/2016  1221.70  1222.30  1215.00  1218.0     1218.0       3\n",
       "2     4/5/2016  1215.40  1236.70  1215.40  1228.4     1228.4       3\n",
       "3     4/6/2016  1230.40  1230.40  1217.60  1222.5     1222.5       3\n",
       "4     4/7/2016  1224.80  1242.90  1224.60  1236.2     1236.2       3\n",
       "...        ...      ...      ...      ...     ...        ...     ...\n",
       "5856  7-Apr-16  2063.01  2063.01  2033.80     NaN        NaN       0\n",
       "5857  6-Apr-16  2045.56  2067.33  2043.09     NaN        NaN       0\n",
       "5858  5-Apr-16  2062.50  2062.50  2042.56     NaN        NaN       0\n",
       "5859  4-Apr-16  2073.19  2074.02  2062.57     NaN        NaN       0\n",
       "5860  1-Apr-16  2056.62  2075.07  2043.98     NaN        NaN       0\n",
       "\n",
       "[5861 rows x 7 columns]>"
      ]
     },
     "execution_count": 131,
     "metadata": {},
     "output_type": "execute_result"
    }
   ],
   "source": [
    "model_one_btc_le = model_one_btc\n",
    "\n",
    "model_one_btc_le.Ticker = le.fit_transform(model_one_btc_le.Ticker)\n",
    "\n",
    "model_one_btc.le"
   ]
  },
  {
   "cell_type": "code",
   "execution_count": 132,
   "id": "096466af",
   "metadata": {},
   "outputs": [],
   "source": [
    "model_one_btc_le = model_one_btc_le.drop ('Date', axis=1)"
   ]
  },
  {
   "cell_type": "code",
   "execution_count": 133,
   "id": "ea9a5ad0",
   "metadata": {},
   "outputs": [
    {
     "data": {
      "text/html": [
       "<div>\n",
       "<style scoped>\n",
       "    .dataframe tbody tr th:only-of-type {\n",
       "        vertical-align: middle;\n",
       "    }\n",
       "\n",
       "    .dataframe tbody tr th {\n",
       "        vertical-align: top;\n",
       "    }\n",
       "\n",
       "    .dataframe thead th {\n",
       "        text-align: right;\n",
       "    }\n",
       "</style>\n",
       "<table border=\"1\" class=\"dataframe\">\n",
       "  <thead>\n",
       "    <tr style=\"text-align: right;\">\n",
       "      <th></th>\n",
       "      <th>Open</th>\n",
       "      <th>High</th>\n",
       "      <th>Low</th>\n",
       "      <th>Close</th>\n",
       "      <th>Adj Close</th>\n",
       "      <th>Ticker</th>\n",
       "    </tr>\n",
       "  </thead>\n",
       "  <tbody>\n",
       "    <tr>\n",
       "      <th>0</th>\n",
       "      <td>1232.3</td>\n",
       "      <td>1235.2</td>\n",
       "      <td>1209.2</td>\n",
       "      <td>1222.2</td>\n",
       "      <td>1222.2</td>\n",
       "      <td>3</td>\n",
       "    </tr>\n",
       "    <tr>\n",
       "      <th>1</th>\n",
       "      <td>1221.7</td>\n",
       "      <td>1222.3</td>\n",
       "      <td>1215.0</td>\n",
       "      <td>1218.0</td>\n",
       "      <td>1218.0</td>\n",
       "      <td>3</td>\n",
       "    </tr>\n",
       "    <tr>\n",
       "      <th>2</th>\n",
       "      <td>1215.4</td>\n",
       "      <td>1236.7</td>\n",
       "      <td>1215.4</td>\n",
       "      <td>1228.4</td>\n",
       "      <td>1228.4</td>\n",
       "      <td>3</td>\n",
       "    </tr>\n",
       "    <tr>\n",
       "      <th>3</th>\n",
       "      <td>1230.4</td>\n",
       "      <td>1230.4</td>\n",
       "      <td>1217.6</td>\n",
       "      <td>1222.5</td>\n",
       "      <td>1222.5</td>\n",
       "      <td>3</td>\n",
       "    </tr>\n",
       "    <tr>\n",
       "      <th>4</th>\n",
       "      <td>1224.8</td>\n",
       "      <td>1242.9</td>\n",
       "      <td>1224.6</td>\n",
       "      <td>1236.2</td>\n",
       "      <td>1236.2</td>\n",
       "      <td>3</td>\n",
       "    </tr>\n",
       "    <tr>\n",
       "      <th>5</th>\n",
       "      <td>1241.0</td>\n",
       "      <td>1242.8</td>\n",
       "      <td>1232.0</td>\n",
       "      <td>1242.5</td>\n",
       "      <td>1242.5</td>\n",
       "      <td>3</td>\n",
       "    </tr>\n",
       "    <tr>\n",
       "      <th>6</th>\n",
       "      <td>1241.5</td>\n",
       "      <td>1258.7</td>\n",
       "      <td>1241.5</td>\n",
       "      <td>1256.7</td>\n",
       "      <td>1256.7</td>\n",
       "      <td>3</td>\n",
       "    </tr>\n",
       "    <tr>\n",
       "      <th>7</th>\n",
       "      <td>1260.0</td>\n",
       "      <td>1261.7</td>\n",
       "      <td>1253.7</td>\n",
       "      <td>1259.4</td>\n",
       "      <td>1259.4</td>\n",
       "      <td>3</td>\n",
       "    </tr>\n",
       "    <tr>\n",
       "      <th>8</th>\n",
       "      <td>1256.5</td>\n",
       "      <td>1256.9</td>\n",
       "      <td>1241.3</td>\n",
       "      <td>1246.8</td>\n",
       "      <td>1246.8</td>\n",
       "      <td>3</td>\n",
       "    </tr>\n",
       "    <tr>\n",
       "      <th>9</th>\n",
       "      <td>1231.4</td>\n",
       "      <td>1243.7</td>\n",
       "      <td>1224.5</td>\n",
       "      <td>1225.0</td>\n",
       "      <td>1225.0</td>\n",
       "      <td>3</td>\n",
       "    </tr>\n",
       "  </tbody>\n",
       "</table>\n",
       "</div>"
      ],
      "text/plain": [
       "     Open    High     Low   Close  Adj Close  Ticker\n",
       "0  1232.3  1235.2  1209.2  1222.2     1222.2       3\n",
       "1  1221.7  1222.3  1215.0  1218.0     1218.0       3\n",
       "2  1215.4  1236.7  1215.4  1228.4     1228.4       3\n",
       "3  1230.4  1230.4  1217.6  1222.5     1222.5       3\n",
       "4  1224.8  1242.9  1224.6  1236.2     1236.2       3\n",
       "5  1241.0  1242.8  1232.0  1242.5     1242.5       3\n",
       "6  1241.5  1258.7  1241.5  1256.7     1256.7       3\n",
       "7  1260.0  1261.7  1253.7  1259.4     1259.4       3\n",
       "8  1256.5  1256.9  1241.3  1246.8     1246.8       3\n",
       "9  1231.4  1243.7  1224.5  1225.0     1225.0       3"
      ]
     },
     "execution_count": 133,
     "metadata": {},
     "output_type": "execute_result"
    }
   ],
   "source": [
    "model_one_btc_le.head(10)"
   ]
  },
  {
   "cell_type": "code",
   "execution_count": 173,
   "id": "fab0b671",
   "metadata": {},
   "outputs": [],
   "source": [
    "model_one_btc_le.fillna(model_one_btc_le.mean(), inplace=True)"
   ]
  },
  {
   "cell_type": "code",
   "execution_count": 174,
   "id": "9dd9e8f2",
   "metadata": {},
   "outputs": [
    {
     "data": {
      "text/plain": [
       "Index(['Open', 'High', 'Low', 'Close', 'Adj Close', 'Ticker'], dtype='object')"
      ]
     },
     "execution_count": 174,
     "metadata": {},
     "output_type": "execute_result"
    }
   ],
   "source": [
    "model_one_btc_le.columns"
   ]
  },
  {
   "cell_type": "code",
   "execution_count": 175,
   "id": "750e8d01",
   "metadata": {},
   "outputs": [
    {
     "name": "stdout",
     "output_type": "stream",
     "text": [
      "(5861, 5) (5861,)\n"
     ]
    }
   ],
   "source": [
    "X = model_one_btc_le.drop(\"Ticker\", axis=1)\n",
    "y = model_one_btc_le[\"Ticker\"]\n",
    "print(X.shape, y.shape)"
   ]
  },
  {
   "cell_type": "code",
   "execution_count": 176,
   "id": "28af5a6d",
   "metadata": {},
   "outputs": [],
   "source": [
    "from sklearn.model_selection import train_test_split\n",
    "from sklearn.preprocessing import LabelEncoder, MinMaxScaler\n",
    "from tensorflow.keras.utils import to_categorical"
   ]
  },
  {
   "cell_type": "code",
   "execution_count": 177,
   "id": "3788fa86",
   "metadata": {},
   "outputs": [],
   "source": [
    "X_train, X_test, y_train, y_test = train_test_split(\n",
    "    X, y, random_state=1)"
   ]
  },
  {
   "cell_type": "code",
   "execution_count": 178,
   "id": "2f2d45ad",
   "metadata": {},
   "outputs": [],
   "source": [
    "X_scaler = MinMaxScaler().fit(X_train)\n",
    "X_train_scaled = X_scaler.transform(X_train)\n",
    "X_test_scaled = X_scaler.transform(X_test)"
   ]
  },
  {
   "cell_type": "code",
   "execution_count": 179,
   "id": "868d295f",
   "metadata": {},
   "outputs": [],
   "source": [
    "label_encoder = LabelEncoder()\n",
    "label_encoder.fit(y_train)\n",
    "encoded_y_train = label_encoder.transform(y_train)\n",
    "encoded_y_test = label_encoder.transform(y_test)"
   ]
  },
  {
   "cell_type": "code",
   "execution_count": 180,
   "id": "922161ba",
   "metadata": {},
   "outputs": [],
   "source": [
    "y_train_categorical = to_categorical(encoded_y_train)\n",
    "y_test_categorical = to_categorical(encoded_y_test)"
   ]
  },
  {
   "cell_type": "code",
   "execution_count": 181,
   "id": "1c7593f1",
   "metadata": {},
   "outputs": [],
   "source": [
    "from tensorflow.keras.models import Sequential\n",
    "from tensorflow.keras.layers import Dense"
   ]
  },
  {
   "cell_type": "code",
   "execution_count": 182,
   "id": "6dd68b63",
   "metadata": {},
   "outputs": [],
   "source": [
    "model = Sequential()\n",
    "model.add(Dense(units=100, activation='relu', input_dim=5))\n",
    "model.add(Dense(units=100, activation='relu'))\n",
    "model.add(Dense(units=4, activation='softmax'))"
   ]
  },
  {
   "cell_type": "code",
   "execution_count": 183,
   "id": "be3e0c19",
   "metadata": {},
   "outputs": [],
   "source": [
    "model.compile(optimizer='adam',\n",
    "              loss='categorical_crossentropy',\n",
    "              metrics=['accuracy'])"
   ]
  },
  {
   "cell_type": "code",
   "execution_count": 184,
   "id": "63cad208",
   "metadata": {},
   "outputs": [
    {
     "name": "stdout",
     "output_type": "stream",
     "text": [
      "Model: \"sequential_3\"\n",
      "_________________________________________________________________\n",
      "Layer (type)                 Output Shape              Param #   \n",
      "=================================================================\n",
      "dense_9 (Dense)              (None, 100)               600       \n",
      "_________________________________________________________________\n",
      "dense_10 (Dense)             (None, 100)               10100     \n",
      "_________________________________________________________________\n",
      "dense_11 (Dense)             (None, 4)                 404       \n",
      "=================================================================\n",
      "Total params: 11,104\n",
      "Trainable params: 11,104\n",
      "Non-trainable params: 0\n",
      "_________________________________________________________________\n"
     ]
    }
   ],
   "source": [
    "model.summary()"
   ]
  },
  {
   "cell_type": "code",
   "execution_count": 244,
   "id": "3ce5c077",
   "metadata": {},
   "outputs": [
    {
     "name": "stdout",
     "output_type": "stream",
     "text": [
      "Train on 4395 samples\n",
      "Epoch 1/100\n",
      "4395/4395 - 0s - loss: 0.0569 - accuracy: 0.9845\n",
      "Epoch 2/100\n",
      "4395/4395 - 0s - loss: 0.0486 - accuracy: 0.9857\n",
      "Epoch 3/100\n",
      "4395/4395 - 0s - loss: 0.0529 - accuracy: 0.9841\n",
      "Epoch 4/100\n",
      "4395/4395 - 0s - loss: 0.0487 - accuracy: 0.9857\n",
      "Epoch 5/100\n",
      "4395/4395 - 0s - loss: 0.0502 - accuracy: 0.9861\n",
      "Epoch 6/100\n",
      "4395/4395 - 0s - loss: 0.0517 - accuracy: 0.9845\n",
      "Epoch 7/100\n",
      "4395/4395 - 0s - loss: 0.0565 - accuracy: 0.9823\n",
      "Epoch 8/100\n",
      "4395/4395 - 0s - loss: 0.0584 - accuracy: 0.9825\n",
      "Epoch 9/100\n",
      "4395/4395 - 0s - loss: 0.0494 - accuracy: 0.9845\n",
      "Epoch 10/100\n",
      "4395/4395 - 0s - loss: 0.0562 - accuracy: 0.9832\n",
      "Epoch 11/100\n",
      "4395/4395 - 0s - loss: 0.0548 - accuracy: 0.9829\n",
      "Epoch 12/100\n",
      "4395/4395 - 0s - loss: 0.0456 - accuracy: 0.9861\n",
      "Epoch 13/100\n",
      "4395/4395 - 0s - loss: 0.0630 - accuracy: 0.9807\n",
      "Epoch 14/100\n",
      "4395/4395 - 0s - loss: 0.0668 - accuracy: 0.9784\n",
      "Epoch 15/100\n",
      "4395/4395 - 0s - loss: 0.0516 - accuracy: 0.9836\n",
      "Epoch 16/100\n",
      "4395/4395 - 0s - loss: 0.0508 - accuracy: 0.9861\n",
      "Epoch 17/100\n",
      "4395/4395 - 0s - loss: 0.0492 - accuracy: 0.9863\n",
      "Epoch 18/100\n",
      "4395/4395 - 0s - loss: 0.0527 - accuracy: 0.9834\n",
      "Epoch 19/100\n",
      "4395/4395 - 0s - loss: 0.0517 - accuracy: 0.9850\n",
      "Epoch 20/100\n",
      "4395/4395 - 0s - loss: 0.0478 - accuracy: 0.9843\n",
      "Epoch 21/100\n",
      "4395/4395 - 0s - loss: 0.0492 - accuracy: 0.9848\n",
      "Epoch 22/100\n",
      "4395/4395 - 0s - loss: 0.0489 - accuracy: 0.9859\n",
      "Epoch 23/100\n",
      "4395/4395 - 0s - loss: 0.0521 - accuracy: 0.9845\n",
      "Epoch 24/100\n",
      "4395/4395 - 0s - loss: 0.0494 - accuracy: 0.9845\n",
      "Epoch 25/100\n",
      "4395/4395 - 0s - loss: 0.0573 - accuracy: 0.9825\n",
      "Epoch 26/100\n",
      "4395/4395 - 0s - loss: 0.0504 - accuracy: 0.9848\n",
      "Epoch 27/100\n",
      "4395/4395 - 0s - loss: 0.0531 - accuracy: 0.9838\n",
      "Epoch 28/100\n",
      "4395/4395 - 0s - loss: 0.0513 - accuracy: 0.9852\n",
      "Epoch 29/100\n",
      "4395/4395 - 0s - loss: 0.0465 - accuracy: 0.9861\n",
      "Epoch 30/100\n",
      "4395/4395 - 0s - loss: 0.0473 - accuracy: 0.9848\n",
      "Epoch 31/100\n",
      "4395/4395 - 0s - loss: 0.0526 - accuracy: 0.9836\n",
      "Epoch 32/100\n",
      "4395/4395 - 0s - loss: 0.0570 - accuracy: 0.9813\n",
      "Epoch 33/100\n",
      "4395/4395 - 0s - loss: 0.0579 - accuracy: 0.9816\n",
      "Epoch 34/100\n",
      "4395/4395 - 0s - loss: 0.0467 - accuracy: 0.9861\n",
      "Epoch 35/100\n",
      "4395/4395 - 0s - loss: 0.0498 - accuracy: 0.9852\n",
      "Epoch 36/100\n",
      "4395/4395 - 0s - loss: 0.0504 - accuracy: 0.9857\n",
      "Epoch 37/100\n",
      "4395/4395 - 0s - loss: 0.0509 - accuracy: 0.9838\n",
      "Epoch 38/100\n",
      "4395/4395 - 0s - loss: 0.0520 - accuracy: 0.9841\n",
      "Epoch 39/100\n",
      "4395/4395 - 0s - loss: 0.0499 - accuracy: 0.9852\n",
      "Epoch 40/100\n",
      "4395/4395 - 0s - loss: 0.0720 - accuracy: 0.9807\n",
      "Epoch 41/100\n",
      "4395/4395 - 0s - loss: 0.0540 - accuracy: 0.9829\n",
      "Epoch 42/100\n",
      "4395/4395 - 0s - loss: 0.0497 - accuracy: 0.9836\n",
      "Epoch 43/100\n",
      "4395/4395 - 0s - loss: 0.0486 - accuracy: 0.9861\n",
      "Epoch 44/100\n",
      "4395/4395 - 0s - loss: 0.0497 - accuracy: 0.9854\n",
      "Epoch 45/100\n",
      "4395/4395 - 0s - loss: 0.0491 - accuracy: 0.9857\n",
      "Epoch 46/100\n",
      "4395/4395 - 0s - loss: 0.0510 - accuracy: 0.9838\n",
      "Epoch 47/100\n",
      "4395/4395 - 0s - loss: 0.0507 - accuracy: 0.9850\n",
      "Epoch 48/100\n",
      "4395/4395 - 0s - loss: 0.0534 - accuracy: 0.9850\n",
      "Epoch 49/100\n",
      "4395/4395 - 0s - loss: 0.0507 - accuracy: 0.9852\n",
      "Epoch 50/100\n",
      "4395/4395 - 0s - loss: 0.0532 - accuracy: 0.9836\n",
      "Epoch 51/100\n",
      "4395/4395 - 0s - loss: 0.0512 - accuracy: 0.9838\n",
      "Epoch 52/100\n",
      "4395/4395 - 0s - loss: 0.0491 - accuracy: 0.9850\n",
      "Epoch 53/100\n",
      "4395/4395 - 0s - loss: 0.0531 - accuracy: 0.9832\n",
      "Epoch 54/100\n",
      "4395/4395 - 0s - loss: 0.0497 - accuracy: 0.9845\n",
      "Epoch 55/100\n",
      "4395/4395 - 0s - loss: 0.0489 - accuracy: 0.9859\n",
      "Epoch 56/100\n",
      "4395/4395 - 0s - loss: 0.0583 - accuracy: 0.9829\n",
      "Epoch 57/100\n",
      "4395/4395 - 0s - loss: 0.0529 - accuracy: 0.9843\n",
      "Epoch 58/100\n",
      "4395/4395 - 0s - loss: 0.0498 - accuracy: 0.9857\n",
      "Epoch 59/100\n",
      "4395/4395 - 0s - loss: 0.0502 - accuracy: 0.9850\n",
      "Epoch 60/100\n",
      "4395/4395 - 0s - loss: 0.0690 - accuracy: 0.9788\n",
      "Epoch 61/100\n",
      "4395/4395 - 0s - loss: 0.0533 - accuracy: 0.9843\n",
      "Epoch 62/100\n",
      "4395/4395 - 0s - loss: 0.0513 - accuracy: 0.9854\n",
      "Epoch 63/100\n",
      "4395/4395 - 0s - loss: 0.0574 - accuracy: 0.9829\n",
      "Epoch 64/100\n",
      "4395/4395 - 0s - loss: 0.0472 - accuracy: 0.9859\n",
      "Epoch 65/100\n",
      "4395/4395 - 0s - loss: 0.0497 - accuracy: 0.9843\n",
      "Epoch 66/100\n",
      "4395/4395 - 0s - loss: 0.0471 - accuracy: 0.9859\n",
      "Epoch 67/100\n",
      "4395/4395 - 0s - loss: 0.0462 - accuracy: 0.9861\n",
      "Epoch 68/100\n",
      "4395/4395 - 0s - loss: 0.0518 - accuracy: 0.9841\n",
      "Epoch 69/100\n",
      "4395/4395 - 0s - loss: 0.0663 - accuracy: 0.9802\n",
      "Epoch 70/100\n",
      "4395/4395 - 0s - loss: 0.0505 - accuracy: 0.9843\n",
      "Epoch 71/100\n",
      "4395/4395 - 0s - loss: 0.0500 - accuracy: 0.9854\n",
      "Epoch 72/100\n",
      "4395/4395 - 0s - loss: 0.0501 - accuracy: 0.9832\n",
      "Epoch 73/100\n",
      "4395/4395 - 0s - loss: 0.0504 - accuracy: 0.9845\n",
      "Epoch 74/100\n",
      "4395/4395 - 0s - loss: 0.0477 - accuracy: 0.9861\n",
      "Epoch 75/100\n",
      "4395/4395 - 0s - loss: 0.0490 - accuracy: 0.9859\n",
      "Epoch 76/100\n",
      "4395/4395 - 0s - loss: 0.0507 - accuracy: 0.9843\n",
      "Epoch 77/100\n",
      "4395/4395 - 0s - loss: 0.0488 - accuracy: 0.9854\n",
      "Epoch 78/100\n",
      "4395/4395 - 0s - loss: 0.0506 - accuracy: 0.9845\n",
      "Epoch 79/100\n",
      "4395/4395 - 0s - loss: 0.0531 - accuracy: 0.9843\n",
      "Epoch 80/100\n",
      "4395/4395 - 0s - loss: 0.0604 - accuracy: 0.9838\n",
      "Epoch 81/100\n",
      "4395/4395 - 0s - loss: 0.0491 - accuracy: 0.9854\n",
      "Epoch 82/100\n",
      "4395/4395 - 0s - loss: 0.0496 - accuracy: 0.9848\n",
      "Epoch 83/100\n",
      "4395/4395 - 0s - loss: 0.0503 - accuracy: 0.9857\n",
      "Epoch 84/100\n",
      "4395/4395 - 0s - loss: 0.0497 - accuracy: 0.9845\n",
      "Epoch 85/100\n",
      "4395/4395 - 0s - loss: 0.0473 - accuracy: 0.9852\n",
      "Epoch 86/100\n",
      "4395/4395 - 0s - loss: 0.0489 - accuracy: 0.9850\n",
      "Epoch 87/100\n",
      "4395/4395 - 0s - loss: 0.0520 - accuracy: 0.9843\n",
      "Epoch 88/100\n",
      "4395/4395 - 0s - loss: 0.0479 - accuracy: 0.9857\n",
      "Epoch 89/100\n",
      "4395/4395 - 0s - loss: 0.0498 - accuracy: 0.9854\n",
      "Epoch 90/100\n",
      "4395/4395 - 0s - loss: 0.0510 - accuracy: 0.9848\n",
      "Epoch 91/100\n",
      "4395/4395 - 0s - loss: 0.0509 - accuracy: 0.9852\n",
      "Epoch 92/100\n",
      "4395/4395 - 0s - loss: 0.0509 - accuracy: 0.9859\n",
      "Epoch 93/100\n",
      "4395/4395 - 0s - loss: 0.0489 - accuracy: 0.9854\n",
      "Epoch 94/100\n",
      "4395/4395 - 0s - loss: 0.0508 - accuracy: 0.9843\n",
      "Epoch 95/100\n",
      "4395/4395 - 0s - loss: 0.0490 - accuracy: 0.9857\n",
      "Epoch 96/100\n",
      "4395/4395 - 0s - loss: 0.0490 - accuracy: 0.9854\n",
      "Epoch 97/100\n",
      "4395/4395 - 0s - loss: 0.0519 - accuracy: 0.9845\n",
      "Epoch 98/100\n",
      "4395/4395 - 0s - loss: 0.0488 - accuracy: 0.9836\n",
      "Epoch 99/100\n",
      "4395/4395 - 0s - loss: 0.0482 - accuracy: 0.9857\n",
      "Epoch 100/100\n",
      "4395/4395 - 0s - loss: 0.0513 - accuracy: 0.9857\n"
     ]
    }
   ],
   "source": [
    "finding = model.fit(\n",
    "    X_train_scaled,\n",
    "    y_train_categorical,\n",
    "    epochs=100,\n",
    "    shuffle=True,\n",
    "    verbose=2\n",
    ")"
   ]
  },
  {
   "cell_type": "code",
   "execution_count": 245,
   "id": "56c7d624",
   "metadata": {},
   "outputs": [
    {
     "name": "stdout",
     "output_type": "stream",
     "text": [
      "1466/1466 - 0s - loss: 0.0453 - accuracy: 0.9850\n",
      "Normal Neural Network - Loss: 0.045289981708764054, Accuracy: 0.9849931597709656\n"
     ]
    }
   ],
   "source": [
    "model_loss, model_accuracy = model.evaluate(\n",
    "    X_test_scaled, y_test_categorical, verbose=2)\n",
    "print(\n",
    "    f\"Normal Neural Network - Loss: {model_loss}, Accuracy: {model_accuracy}\")\n",
    "\n"
   ]
  },
  {
   "cell_type": "code",
   "execution_count": 246,
   "id": "96533786",
   "metadata": {},
   "outputs": [],
   "source": [
    "encoded_predictions = model.predict_classes(X_test_scaled[:5])\n",
    "prediction_labels = label_encoder.inverse_transform(encoded_predictions)"
   ]
  },
  {
   "cell_type": "code",
   "execution_count": 247,
   "id": "947b5eca",
   "metadata": {},
   "outputs": [
    {
     "name": "stdout",
     "output_type": "stream",
     "text": [
      "Predicted classes: [1 1 2 3 1]\n",
      "Actual Labels: [1, 1, 2, 3, 1]\n"
     ]
    }
   ],
   "source": [
    "print(f\"Predicted classes: {prediction_labels}\")\n",
    "print(f\"Actual Labels: {list(y_test[:5])}\")"
   ]
  },
  {
   "cell_type": "code",
   "execution_count": 254,
   "id": "3c88c7d6",
   "metadata": {},
   "outputs": [],
   "source": [
    "def visualize_training_finding(finding):\n",
    "    \"\"\"\n",
    "    Plots the loss and accuracy for the training and testing data\n",
    "    \"\"\"\n",
    "    history = finding.history\n",
    "    plt.figure(figsize=(12,4))\n",
    "    \n",
    "    plt.plot(history['loss'])\n",
    "    plt.legend(['val_loss', 'loss'])\n",
    "    plt.title('Bitcoin Loss')\n",
    "    plt.xlabel('Bitcoin Epochs')\n",
    "    plt.ylabel('Bitcoin Loss')\n",
    "    plt.show()\n",
    "    \n",
    "    plt.figure(figsize=(12,4))\n",
    "    plt.plot(history['accuracy'])\n",
    "    plt.plot(history['accuracy'])\n",
    "    plt.legend(['model_loss', 'model_accuracy'])\n",
    "    plt.title('Bitcoin Accuracy')\n",
    "    plt.xlabel('Bitcoin Epochs')\n",
    "    plt.ylabel('Bitcoin Accuracy')\n",
    "    plt.show()"
   ]
  },
  {
   "cell_type": "code",
   "execution_count": 255,
   "id": "8204de51",
   "metadata": {},
   "outputs": [
    {
     "data": {
      "image/png": "[encoded data removed]",
      "text/plain": [
       "<Figure size 864x288 with 1 Axes>"
      ]
     },
     "metadata": {},
     "output_type": "display_data"
    },
    {
     "data": {
      "image/png": "[encoded data removed]",
      "text/plain": [
       "<Figure size 864x288 with 1 Axes>"
      ]
     },
     "metadata": {},
     "output_type": "display_data"
    }
   ],
   "source": [
    "visualize_training_finding(finding)"
   ]
  },
  {
   "cell_type": "code",
   "execution_count": null,
   "id": "ad3032d8",
   "metadata": {},
   "outputs": [],
   "source": []
  }
 ],
 "metadata": {
  "kernelspec": {
   "display_name": "Python [conda env:PythonAdv] *",
   "language": "python",
   "name": "conda-env-PythonAdv-py"
  },
  "language_info": {
   "codemirror_mode": {
    "name": "ipython",
    "version": 3
   },
   "file_extension": ".py",
   "mimetype": "text/x-python",
   "name": "python",
   "nbconvert_exporter": "python",
   "pygments_lexer": "ipython3",
   "version": "3.6.13"
  }
 },
 "nbformat": 4,
 "nbformat_minor": 5
}
