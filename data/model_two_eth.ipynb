{
 "cells": [
  {
   "cell_type": "code",
   "execution_count": 1,
   "metadata": {},
   "outputs": [],
   "source": [
    "# Set the seed value for the notebook so the results are reproducible\n",
    "from numpy.random import seed\n",
    "seed(1)"
   ]
  },
  {
   "cell_type": "code",
   "execution_count": 2,
   "metadata": {},
   "outputs": [
    {
     "data": {
      "text/plain": [
       "'2.4.0'"
      ]
     },
     "execution_count": 2,
     "metadata": {},
     "output_type": "execute_result"
    }
   ],
   "source": [
    "import os\n",
    "import tensorflow as tf\n",
    "from tensorflow.keras.models import Sequential\n",
    "from tensorflow.keras.utils import to_categorical\n",
    "from tensorflow.keras.layers import Dense\n",
    "import numpy as np\n",
    "import pandas as pd\n",
    "import matplotlib.pyplot as plt\n",
    "\n",
    "import warnings\n",
    "warnings.filterwarnings(\"ignore\")\n",
    "from sklearn import metrics\n",
    "from sklearn.metrics import accuracy_score\n",
    "from matplotlib import style\n",
    "style.use(\"ggplot\")\n",
    "\n",
    "import tensorflow\n",
    "tensorflow.keras.__version__"
   ]
  },
  {
   "cell_type": "code",
   "execution_count": 5,
   "metadata": {},
   "outputs": [
    {
     "ename": "FileNotFoundError",
     "evalue": "[Errno 2] File /gold.csv does not exist: '/gold.csv'",
     "output_type": "error",
     "traceback": [
      "\u001b[1;31m---------------------------------------------------------------------------\u001b[0m",
      "\u001b[1;31mFileNotFoundError\u001b[0m                         Traceback (most recent call last)",
      "\u001b[1;32m<ipython-input-5-5e61aeb06b01>\u001b[0m in \u001b[0;36m<module>\u001b[1;34m\u001b[0m\n\u001b[0;32m      3\u001b[0m \u001b[1;33m\u001b[0m\u001b[0m\n\u001b[0;32m      4\u001b[0m \u001b[1;33m\u001b[0m\u001b[0m\n\u001b[1;32m----> 5\u001b[1;33m \u001b[0mgold\u001b[0m \u001b[1;33m=\u001b[0m \u001b[0mpd\u001b[0m\u001b[1;33m.\u001b[0m\u001b[0mread_csv\u001b[0m\u001b[1;33m(\u001b[0m\u001b[1;34m\"/gold.csv\"\u001b[0m\u001b[1;33m)\u001b[0m\u001b[1;33m\u001b[0m\u001b[1;33m\u001b[0m\u001b[0m\n\u001b[0m\u001b[0;32m      6\u001b[0m \u001b[0meth\u001b[0m \u001b[1;33m=\u001b[0m \u001b[0mpd\u001b[0m\u001b[1;33m.\u001b[0m\u001b[0mread_csv\u001b[0m\u001b[1;33m(\u001b[0m\u001b[1;34m\"/etherium.csv\"\u001b[0m\u001b[1;33m)\u001b[0m\u001b[1;33m\u001b[0m\u001b[1;33m\u001b[0m\u001b[0m\n\u001b[0;32m      7\u001b[0m \u001b[0mdollar\u001b[0m \u001b[1;33m=\u001b[0m \u001b[0mpd\u001b[0m\u001b[1;33m.\u001b[0m\u001b[0mread_csv\u001b[0m\u001b[1;33m(\u001b[0m\u001b[1;34m\"/dollar.csv\"\u001b[0m\u001b[1;33m)\u001b[0m\u001b[1;33m\u001b[0m\u001b[1;33m\u001b[0m\u001b[0m\n",
      "\u001b[1;32m~\\anaconda3\\lib\\site-packages\\pandas\\io\\parsers.py\u001b[0m in \u001b[0;36mparser_f\u001b[1;34m(filepath_or_buffer, sep, delimiter, header, names, index_col, usecols, squeeze, prefix, mangle_dupe_cols, dtype, engine, converters, true_values, false_values, skipinitialspace, skiprows, skipfooter, nrows, na_values, keep_default_na, na_filter, verbose, skip_blank_lines, parse_dates, infer_datetime_format, keep_date_col, date_parser, dayfirst, cache_dates, iterator, chunksize, compression, thousands, decimal, lineterminator, quotechar, quoting, doublequote, escapechar, comment, encoding, dialect, error_bad_lines, warn_bad_lines, delim_whitespace, low_memory, memory_map, float_precision)\u001b[0m\n\u001b[0;32m    674\u001b[0m         )\n\u001b[0;32m    675\u001b[0m \u001b[1;33m\u001b[0m\u001b[0m\n\u001b[1;32m--> 676\u001b[1;33m         \u001b[1;32mreturn\u001b[0m \u001b[0m_read\u001b[0m\u001b[1;33m(\u001b[0m\u001b[0mfilepath_or_buffer\u001b[0m\u001b[1;33m,\u001b[0m \u001b[0mkwds\u001b[0m\u001b[1;33m)\u001b[0m\u001b[1;33m\u001b[0m\u001b[1;33m\u001b[0m\u001b[0m\n\u001b[0m\u001b[0;32m    677\u001b[0m \u001b[1;33m\u001b[0m\u001b[0m\n\u001b[0;32m    678\u001b[0m     \u001b[0mparser_f\u001b[0m\u001b[1;33m.\u001b[0m\u001b[0m__name__\u001b[0m \u001b[1;33m=\u001b[0m \u001b[0mname\u001b[0m\u001b[1;33m\u001b[0m\u001b[1;33m\u001b[0m\u001b[0m\n",
      "\u001b[1;32m~\\anaconda3\\lib\\site-packages\\pandas\\io\\parsers.py\u001b[0m in \u001b[0;36m_read\u001b[1;34m(filepath_or_buffer, kwds)\u001b[0m\n\u001b[0;32m    446\u001b[0m \u001b[1;33m\u001b[0m\u001b[0m\n\u001b[0;32m    447\u001b[0m     \u001b[1;31m# Create the parser.\u001b[0m\u001b[1;33m\u001b[0m\u001b[1;33m\u001b[0m\u001b[1;33m\u001b[0m\u001b[0m\n\u001b[1;32m--> 448\u001b[1;33m     \u001b[0mparser\u001b[0m \u001b[1;33m=\u001b[0m \u001b[0mTextFileReader\u001b[0m\u001b[1;33m(\u001b[0m\u001b[0mfp_or_buf\u001b[0m\u001b[1;33m,\u001b[0m \u001b[1;33m**\u001b[0m\u001b[0mkwds\u001b[0m\u001b[1;33m)\u001b[0m\u001b[1;33m\u001b[0m\u001b[1;33m\u001b[0m\u001b[0m\n\u001b[0m\u001b[0;32m    449\u001b[0m \u001b[1;33m\u001b[0m\u001b[0m\n\u001b[0;32m    450\u001b[0m     \u001b[1;32mif\u001b[0m \u001b[0mchunksize\u001b[0m \u001b[1;32mor\u001b[0m \u001b[0miterator\u001b[0m\u001b[1;33m:\u001b[0m\u001b[1;33m\u001b[0m\u001b[1;33m\u001b[0m\u001b[0m\n",
      "\u001b[1;32m~\\anaconda3\\lib\\site-packages\\pandas\\io\\parsers.py\u001b[0m in \u001b[0;36m__init__\u001b[1;34m(self, f, engine, **kwds)\u001b[0m\n\u001b[0;32m    878\u001b[0m             \u001b[0mself\u001b[0m\u001b[1;33m.\u001b[0m\u001b[0moptions\u001b[0m\u001b[1;33m[\u001b[0m\u001b[1;34m\"has_index_names\"\u001b[0m\u001b[1;33m]\u001b[0m \u001b[1;33m=\u001b[0m \u001b[0mkwds\u001b[0m\u001b[1;33m[\u001b[0m\u001b[1;34m\"has_index_names\"\u001b[0m\u001b[1;33m]\u001b[0m\u001b[1;33m\u001b[0m\u001b[1;33m\u001b[0m\u001b[0m\n\u001b[0;32m    879\u001b[0m \u001b[1;33m\u001b[0m\u001b[0m\n\u001b[1;32m--> 880\u001b[1;33m         \u001b[0mself\u001b[0m\u001b[1;33m.\u001b[0m\u001b[0m_make_engine\u001b[0m\u001b[1;33m(\u001b[0m\u001b[0mself\u001b[0m\u001b[1;33m.\u001b[0m\u001b[0mengine\u001b[0m\u001b[1;33m)\u001b[0m\u001b[1;33m\u001b[0m\u001b[1;33m\u001b[0m\u001b[0m\n\u001b[0m\u001b[0;32m    881\u001b[0m \u001b[1;33m\u001b[0m\u001b[0m\n\u001b[0;32m    882\u001b[0m     \u001b[1;32mdef\u001b[0m \u001b[0mclose\u001b[0m\u001b[1;33m(\u001b[0m\u001b[0mself\u001b[0m\u001b[1;33m)\u001b[0m\u001b[1;33m:\u001b[0m\u001b[1;33m\u001b[0m\u001b[1;33m\u001b[0m\u001b[0m\n",
      "\u001b[1;32m~\\anaconda3\\lib\\site-packages\\pandas\\io\\parsers.py\u001b[0m in \u001b[0;36m_make_engine\u001b[1;34m(self, engine)\u001b[0m\n\u001b[0;32m   1112\u001b[0m     \u001b[1;32mdef\u001b[0m \u001b[0m_make_engine\u001b[0m\u001b[1;33m(\u001b[0m\u001b[0mself\u001b[0m\u001b[1;33m,\u001b[0m \u001b[0mengine\u001b[0m\u001b[1;33m=\u001b[0m\u001b[1;34m\"c\"\u001b[0m\u001b[1;33m)\u001b[0m\u001b[1;33m:\u001b[0m\u001b[1;33m\u001b[0m\u001b[1;33m\u001b[0m\u001b[0m\n\u001b[0;32m   1113\u001b[0m         \u001b[1;32mif\u001b[0m \u001b[0mengine\u001b[0m \u001b[1;33m==\u001b[0m \u001b[1;34m\"c\"\u001b[0m\u001b[1;33m:\u001b[0m\u001b[1;33m\u001b[0m\u001b[1;33m\u001b[0m\u001b[0m\n\u001b[1;32m-> 1114\u001b[1;33m             \u001b[0mself\u001b[0m\u001b[1;33m.\u001b[0m\u001b[0m_engine\u001b[0m \u001b[1;33m=\u001b[0m \u001b[0mCParserWrapper\u001b[0m\u001b[1;33m(\u001b[0m\u001b[0mself\u001b[0m\u001b[1;33m.\u001b[0m\u001b[0mf\u001b[0m\u001b[1;33m,\u001b[0m \u001b[1;33m**\u001b[0m\u001b[0mself\u001b[0m\u001b[1;33m.\u001b[0m\u001b[0moptions\u001b[0m\u001b[1;33m)\u001b[0m\u001b[1;33m\u001b[0m\u001b[1;33m\u001b[0m\u001b[0m\n\u001b[0m\u001b[0;32m   1115\u001b[0m         \u001b[1;32melse\u001b[0m\u001b[1;33m:\u001b[0m\u001b[1;33m\u001b[0m\u001b[1;33m\u001b[0m\u001b[0m\n\u001b[0;32m   1116\u001b[0m             \u001b[1;32mif\u001b[0m \u001b[0mengine\u001b[0m \u001b[1;33m==\u001b[0m \u001b[1;34m\"python\"\u001b[0m\u001b[1;33m:\u001b[0m\u001b[1;33m\u001b[0m\u001b[1;33m\u001b[0m\u001b[0m\n",
      "\u001b[1;32m~\\anaconda3\\lib\\site-packages\\pandas\\io\\parsers.py\u001b[0m in \u001b[0;36m__init__\u001b[1;34m(self, src, **kwds)\u001b[0m\n\u001b[0;32m   1889\u001b[0m         \u001b[0mkwds\u001b[0m\u001b[1;33m[\u001b[0m\u001b[1;34m\"usecols\"\u001b[0m\u001b[1;33m]\u001b[0m \u001b[1;33m=\u001b[0m \u001b[0mself\u001b[0m\u001b[1;33m.\u001b[0m\u001b[0musecols\u001b[0m\u001b[1;33m\u001b[0m\u001b[1;33m\u001b[0m\u001b[0m\n\u001b[0;32m   1890\u001b[0m \u001b[1;33m\u001b[0m\u001b[0m\n\u001b[1;32m-> 1891\u001b[1;33m         \u001b[0mself\u001b[0m\u001b[1;33m.\u001b[0m\u001b[0m_reader\u001b[0m \u001b[1;33m=\u001b[0m \u001b[0mparsers\u001b[0m\u001b[1;33m.\u001b[0m\u001b[0mTextReader\u001b[0m\u001b[1;33m(\u001b[0m\u001b[0msrc\u001b[0m\u001b[1;33m,\u001b[0m \u001b[1;33m**\u001b[0m\u001b[0mkwds\u001b[0m\u001b[1;33m)\u001b[0m\u001b[1;33m\u001b[0m\u001b[1;33m\u001b[0m\u001b[0m\n\u001b[0m\u001b[0;32m   1892\u001b[0m         \u001b[0mself\u001b[0m\u001b[1;33m.\u001b[0m\u001b[0munnamed_cols\u001b[0m \u001b[1;33m=\u001b[0m \u001b[0mself\u001b[0m\u001b[1;33m.\u001b[0m\u001b[0m_reader\u001b[0m\u001b[1;33m.\u001b[0m\u001b[0munnamed_cols\u001b[0m\u001b[1;33m\u001b[0m\u001b[1;33m\u001b[0m\u001b[0m\n\u001b[0;32m   1893\u001b[0m \u001b[1;33m\u001b[0m\u001b[0m\n",
      "\u001b[1;32mpandas\\_libs\\parsers.pyx\u001b[0m in \u001b[0;36mpandas._libs.parsers.TextReader.__cinit__\u001b[1;34m()\u001b[0m\n",
      "\u001b[1;32mpandas\\_libs\\parsers.pyx\u001b[0m in \u001b[0;36mpandas._libs.parsers.TextReader._setup_parser_source\u001b[1;34m()\u001b[0m\n",
      "\u001b[1;31mFileNotFoundError\u001b[0m: [Errno 2] File /gold.csv does not exist: '/gold.csv'"
     ]
    }
   ],
   "source": [
    "import pandas, sys\n",
    "import pandas as pd\n",
    "\n",
    "\n",
    "gold = pd.read_csv(\"/gold.csv\")\n",
    "eth = pd.read_csv(\"/etherium.csv\")\n",
    "dollar = pd.read_csv(\"/dollar.csv\")\n",
    "SP_500 = pd.read_csv(\"/S&P500.csv\")\n",
    "\n",
    "model_two_eth = pd.concat ([gold, eth, dollar, SP_500])\n",
    "\n",
    "#model_two_eth.to_csv (\"c:/Users/George Aziz/desktop/Final_Project/data/model_two_eth.csv\", index=False)\n",
    "\n",
    "model_two_eth.head()"
   ]
  },
  {
   "cell_type": "code",
   "execution_count": 6,
   "metadata": {},
   "outputs": [
    {
     "data": {
      "text/plain": [
       "(5861, 10)"
      ]
     },
     "execution_count": 6,
     "metadata": {},
     "output_type": "execute_result"
    }
   ],
   "source": [
    "model_two_eth = pd.read_csv(\"model_two_eth.csv\")\n",
    "\n",
    "\n",
    "\n",
    "model_two_eth.shape"
   ]
  },
  {
   "cell_type": "code",
   "execution_count": 7,
   "metadata": {},
   "outputs": [
    {
     "data": {
      "text/html": [
       "<div>\n",
       "<style scoped>\n",
       "    .dataframe tbody tr th:only-of-type {\n",
       "        vertical-align: middle;\n",
       "    }\n",
       "\n",
       "    .dataframe tbody tr th {\n",
       "        vertical-align: top;\n",
       "    }\n",
       "\n",
       "    .dataframe thead th {\n",
       "        text-align: right;\n",
       "    }\n",
       "</style>\n",
       "<table border=\"1\" class=\"dataframe\">\n",
       "  <thead>\n",
       "    <tr style=\"text-align: right;\">\n",
       "      <th></th>\n",
       "      <th>Open</th>\n",
       "      <th>High</th>\n",
       "      <th>Low</th>\n",
       "      <th>Close</th>\n",
       "      <th>Adj Close</th>\n",
       "      <th>Volume</th>\n",
       "    </tr>\n",
       "  </thead>\n",
       "  <tbody>\n",
       "    <tr>\n",
       "      <th>count</th>\n",
       "      <td>5575.000000</td>\n",
       "      <td>5575.000000</td>\n",
       "      <td>5575.000000</td>\n",
       "      <td>4316.000000</td>\n",
       "      <td>4316.000000</td>\n",
       "      <td>5.575000e+03</td>\n",
       "    </tr>\n",
       "    <tr>\n",
       "      <th>mean</th>\n",
       "      <td>1069.236294</td>\n",
       "      <td>1077.688707</td>\n",
       "      <td>1060.131557</td>\n",
       "      <td>571.414905</td>\n",
       "      <td>571.414905</td>\n",
       "      <td>2.989063e+09</td>\n",
       "    </tr>\n",
       "    <tr>\n",
       "      <th>std</th>\n",
       "      <td>1089.320164</td>\n",
       "      <td>1094.182998</td>\n",
       "      <td>1084.081198</td>\n",
       "      <td>609.543372</td>\n",
       "      <td>609.543372</td>\n",
       "      <td>5.714270e+09</td>\n",
       "    </tr>\n",
       "    <tr>\n",
       "      <th>min</th>\n",
       "      <td>6.800000</td>\n",
       "      <td>7.320000</td>\n",
       "      <td>5.980000</td>\n",
       "      <td>6.820000</td>\n",
       "      <td>6.820000</td>\n",
       "      <td>0.000000e+00</td>\n",
       "    </tr>\n",
       "    <tr>\n",
       "      <th>25%</th>\n",
       "      <td>97.950000</td>\n",
       "      <td>98.200000</td>\n",
       "      <td>97.765000</td>\n",
       "      <td>96.300000</td>\n",
       "      <td>96.300000</td>\n",
       "      <td>1.100000e+01</td>\n",
       "    </tr>\n",
       "    <tr>\n",
       "      <th>50%</th>\n",
       "      <td>538.260000</td>\n",
       "      <td>551.640000</td>\n",
       "      <td>515.270000</td>\n",
       "      <td>211.435000</td>\n",
       "      <td>211.435000</td>\n",
       "      <td>3.166700e+07</td>\n",
       "    </tr>\n",
       "    <tr>\n",
       "      <th>75%</th>\n",
       "      <td>1835.325000</td>\n",
       "      <td>1850.900000</td>\n",
       "      <td>1822.350000</td>\n",
       "      <td>1246.325000</td>\n",
       "      <td>1246.325000</td>\n",
       "      <td>3.705885e+09</td>\n",
       "    </tr>\n",
       "    <tr>\n",
       "      <th>max</th>\n",
       "      <td>3973.590000</td>\n",
       "      <td>3994.410000</td>\n",
       "      <td>3966.980000</td>\n",
       "      <td>2051.500000</td>\n",
       "      <td>2051.500000</td>\n",
       "      <td>6.073363e+10</td>\n",
       "    </tr>\n",
       "  </tbody>\n",
       "</table>\n",
       "</div>"
      ],
      "text/plain": [
       "              Open         High          Low        Close    Adj Close  \\\n",
       "count  5575.000000  5575.000000  5575.000000  4316.000000  4316.000000   \n",
       "mean   1069.236294  1077.688707  1060.131557   571.414905   571.414905   \n",
       "std    1089.320164  1094.182998  1084.081198   609.543372   609.543372   \n",
       "min       6.800000     7.320000     5.980000     6.820000     6.820000   \n",
       "25%      97.950000    98.200000    97.765000    96.300000    96.300000   \n",
       "50%     538.260000   551.640000   515.270000   211.435000   211.435000   \n",
       "75%    1835.325000  1850.900000  1822.350000  1246.325000  1246.325000   \n",
       "max    3973.590000  3994.410000  3966.980000  2051.500000  2051.500000   \n",
       "\n",
       "             Volume  \n",
       "count  5.575000e+03  \n",
       "mean   2.989063e+09  \n",
       "std    5.714270e+09  \n",
       "min    0.000000e+00  \n",
       "25%    1.100000e+01  \n",
       "50%    3.166700e+07  \n",
       "75%    3.705885e+09  \n",
       "max    6.073363e+10  "
      ]
     },
     "execution_count": 7,
     "metadata": {},
     "output_type": "execute_result"
    }
   ],
   "source": [
    "model_two_eth.describe()"
   ]
  },
  {
   "cell_type": "code",
   "execution_count": 8,
   "metadata": {},
   "outputs": [
    {
     "data": {
      "text/plain": [
       "Index(['Date', 'Open', 'High', 'Low', 'Close', 'Adj Close', 'Volume', 'Ticker',\n",
       "       'Close*', 'Adj Close**'],\n",
       "      dtype='object')"
      ]
     },
     "execution_count": 8,
     "metadata": {},
     "output_type": "execute_result"
    }
   ],
   "source": [
    "model_two_eth.columns"
   ]
  },
  {
   "cell_type": "code",
   "execution_count": 9,
   "metadata": {},
   "outputs": [],
   "source": [
    "model_two_eth = model_two_eth.drop ('Date', axis=1)"
   ]
  },
  {
   "cell_type": "code",
   "execution_count": 10,
   "metadata": {},
   "outputs": [],
   "source": [
    "model_two_eth = model_two_eth.drop ('Close*', axis=1)"
   ]
  },
  {
   "cell_type": "code",
   "execution_count": 11,
   "metadata": {},
   "outputs": [],
   "source": [
    "model_two_eth = model_two_eth.drop ('Adj Close**', axis=1)"
   ]
  },
  {
   "cell_type": "code",
   "execution_count": 12,
   "metadata": {},
   "outputs": [
    {
     "data": {
      "text/html": [
       "<div>\n",
       "<style scoped>\n",
       "    .dataframe tbody tr th:only-of-type {\n",
       "        vertical-align: middle;\n",
       "    }\n",
       "\n",
       "    .dataframe tbody tr th {\n",
       "        vertical-align: top;\n",
       "    }\n",
       "\n",
       "    .dataframe thead th {\n",
       "        text-align: right;\n",
       "    }\n",
       "</style>\n",
       "<table border=\"1\" class=\"dataframe\">\n",
       "  <thead>\n",
       "    <tr style=\"text-align: right;\">\n",
       "      <th></th>\n",
       "      <th>Open</th>\n",
       "      <th>High</th>\n",
       "      <th>Low</th>\n",
       "      <th>Close</th>\n",
       "      <th>Adj Close</th>\n",
       "      <th>Volume</th>\n",
       "      <th>Ticker</th>\n",
       "    </tr>\n",
       "  </thead>\n",
       "  <tbody>\n",
       "    <tr>\n",
       "      <th>0</th>\n",
       "      <td>1232.3</td>\n",
       "      <td>1235.2</td>\n",
       "      <td>1209.2</td>\n",
       "      <td>1222.2</td>\n",
       "      <td>1222.2</td>\n",
       "      <td>1602.0</td>\n",
       "      <td>gold</td>\n",
       "    </tr>\n",
       "    <tr>\n",
       "      <th>1</th>\n",
       "      <td>1221.7</td>\n",
       "      <td>1222.3</td>\n",
       "      <td>1215.0</td>\n",
       "      <td>1218.0</td>\n",
       "      <td>1218.0</td>\n",
       "      <td>2038.0</td>\n",
       "      <td>gold</td>\n",
       "    </tr>\n",
       "    <tr>\n",
       "      <th>2</th>\n",
       "      <td>1215.4</td>\n",
       "      <td>1236.7</td>\n",
       "      <td>1215.4</td>\n",
       "      <td>1228.4</td>\n",
       "      <td>1228.4</td>\n",
       "      <td>477.0</td>\n",
       "      <td>gold</td>\n",
       "    </tr>\n",
       "    <tr>\n",
       "      <th>3</th>\n",
       "      <td>1230.4</td>\n",
       "      <td>1230.4</td>\n",
       "      <td>1217.6</td>\n",
       "      <td>1222.5</td>\n",
       "      <td>1222.5</td>\n",
       "      <td>248.0</td>\n",
       "      <td>gold</td>\n",
       "    </tr>\n",
       "    <tr>\n",
       "      <th>4</th>\n",
       "      <td>1224.8</td>\n",
       "      <td>1242.9</td>\n",
       "      <td>1224.6</td>\n",
       "      <td>1236.2</td>\n",
       "      <td>1236.2</td>\n",
       "      <td>375.0</td>\n",
       "      <td>gold</td>\n",
       "    </tr>\n",
       "  </tbody>\n",
       "</table>\n",
       "</div>"
      ],
      "text/plain": [
       "     Open    High     Low   Close  Adj Close  Volume Ticker\n",
       "0  1232.3  1235.2  1209.2  1222.2     1222.2  1602.0   gold\n",
       "1  1221.7  1222.3  1215.0  1218.0     1218.0  2038.0   gold\n",
       "2  1215.4  1236.7  1215.4  1228.4     1228.4   477.0   gold\n",
       "3  1230.4  1230.4  1217.6  1222.5     1222.5   248.0   gold\n",
       "4  1224.8  1242.9  1224.6  1236.2     1236.2   375.0   gold"
      ]
     },
     "execution_count": 12,
     "metadata": {},
     "output_type": "execute_result"
    }
   ],
   "source": [
    "model_two_eth.head()"
   ]
  },
  {
   "cell_type": "code",
   "execution_count": 13,
   "metadata": {},
   "outputs": [],
   "source": [
    "from sklearn.preprocessing import LabelEncoder\n",
    "le = LabelEncoder()"
   ]
  },
  {
   "cell_type": "code",
   "execution_count": 14,
   "metadata": {},
   "outputs": [
    {
     "data": {
      "text/plain": [
       "<bound method _flex_comp_method_FRAME.<locals>.f of          Open     High      Low   Close  Adj Close        Volume  Ticker\n",
       "0     1232.30  1235.20  1209.20  1222.2     1222.2  1.602000e+03       3\n",
       "1     1221.70  1222.30  1215.00  1218.0     1218.0  2.038000e+03       3\n",
       "2     1215.40  1236.70  1215.40  1228.4     1228.4  4.770000e+02       3\n",
       "3     1230.40  1230.40  1217.60  1222.5     1222.5  2.480000e+02       3\n",
       "4     1224.80  1242.90  1224.60  1236.2     1236.2  3.750000e+02       3\n",
       "...       ...      ...      ...     ...        ...           ...     ...\n",
       "5856  2063.01  2063.01  2033.80     NaN        NaN  3.801250e+09       0\n",
       "5857  2045.56  2067.33  2043.09     NaN        NaN  3.750800e+09       0\n",
       "5858  2062.50  2062.50  2042.56     NaN        NaN  4.154920e+09       0\n",
       "5859  2073.19  2074.02  2062.57     NaN        NaN  3.485710e+09       0\n",
       "5860  2056.62  2075.07  2043.98     NaN        NaN  3.749990e+09       0\n",
       "\n",
       "[5861 rows x 7 columns]>"
      ]
     },
     "execution_count": 14,
     "metadata": {},
     "output_type": "execute_result"
    }
   ],
   "source": [
    "model_two_eth_le = model_two_eth\n",
    "\n",
    "model_two_eth_le.Ticker = le.fit_transform(model_two_eth_le.Ticker)\n",
    "\n",
    "model_two_eth.le"
   ]
  },
  {
   "cell_type": "code",
   "execution_count": 15,
   "metadata": {},
   "outputs": [],
   "source": [
    "model_two_eth_le.fillna(model_two_eth_le.mean(), inplace=True)"
   ]
  },
  {
   "cell_type": "code",
   "execution_count": 16,
   "metadata": {},
   "outputs": [
    {
     "name": "stdout",
     "output_type": "stream",
     "text": [
      "(5861, 6) (5861,)\n"
     ]
    }
   ],
   "source": [
    "X = model_two_eth_le.drop(\"Ticker\", axis=1)\n",
    "y = model_two_eth_le[\"Ticker\"]\n",
    "print(X.shape, y.shape)"
   ]
  },
  {
   "cell_type": "code",
   "execution_count": 17,
   "metadata": {},
   "outputs": [],
   "source": [
    "from sklearn.model_selection import train_test_split\n",
    "from sklearn.preprocessing import LabelEncoder, MinMaxScaler\n",
    "from tensorflow.keras.utils import to_categorical"
   ]
  },
  {
   "cell_type": "code",
   "execution_count": 18,
   "metadata": {},
   "outputs": [],
   "source": [
    "X_train, X_test, y_train, y_test = train_test_split(\n",
    "    X, y, random_state=1)"
   ]
  },
  {
   "cell_type": "code",
   "execution_count": 19,
   "metadata": {},
   "outputs": [],
   "source": [
    "X_scaler = MinMaxScaler().fit(X_train)\n",
    "X_train_scaled = X_scaler.transform(X_train)\n",
    "X_test_scaled = X_scaler.transform(X_test)"
   ]
  },
  {
   "cell_type": "code",
   "execution_count": 20,
   "metadata": {},
   "outputs": [],
   "source": [
    "label_encoder = LabelEncoder()\n",
    "label_encoder.fit(y_train)\n",
    "encoded_y_train = label_encoder.transform(y_train)\n",
    "encoded_y_test = label_encoder.transform(y_test)"
   ]
  },
  {
   "cell_type": "code",
   "execution_count": 21,
   "metadata": {},
   "outputs": [],
   "source": [
    "y_train_categorical = to_categorical(encoded_y_train)\n",
    "y_test_categorical = to_categorical(encoded_y_test)"
   ]
  },
  {
   "cell_type": "code",
   "execution_count": 22,
   "metadata": {},
   "outputs": [],
   "source": [
    "from tensorflow.keras.models import Sequential\n",
    "from tensorflow.keras.layers import Dense"
   ]
  },
  {
   "cell_type": "code",
   "execution_count": 23,
   "metadata": {},
   "outputs": [],
   "source": [
    "model = Sequential()\n",
    "model.add(Dense(units=100, activation='relu', input_dim=6))\n",
    "model.add(Dense(units=100, activation='relu'))\n",
    "model.add(Dense(units=4, activation='softmax'))"
   ]
  },
  {
   "cell_type": "code",
   "execution_count": 24,
   "metadata": {},
   "outputs": [],
   "source": [
    "model.compile(optimizer='adam',\n",
    "              loss='categorical_crossentropy',\n",
    "              metrics=['accuracy'])"
   ]
  },
  {
   "cell_type": "code",
   "execution_count": 25,
   "metadata": {},
   "outputs": [
    {
     "name": "stdout",
     "output_type": "stream",
     "text": [
      "Model: \"sequential\"\n",
      "_________________________________________________________________\n",
      "Layer (type)                 Output Shape              Param #   \n",
      "=================================================================\n",
      "dense (Dense)                (None, 100)               700       \n",
      "_________________________________________________________________\n",
      "dense_1 (Dense)              (None, 100)               10100     \n",
      "_________________________________________________________________\n",
      "dense_2 (Dense)              (None, 4)                 404       \n",
      "=================================================================\n",
      "Total params: 11,204\n",
      "Trainable params: 11,204\n",
      "Non-trainable params: 0\n",
      "_________________________________________________________________\n"
     ]
    }
   ],
   "source": [
    "model.summary()"
   ]
  },
  {
   "cell_type": "code",
   "execution_count": 26,
   "metadata": {},
   "outputs": [
    {
     "name": "stdout",
     "output_type": "stream",
     "text": [
      "Epoch 1/100\n",
      "138/138 - 1s - loss: 0.7640 - accuracy: 0.6983\n",
      "Epoch 2/100\n",
      "138/138 - 0s - loss: 0.2990 - accuracy: 0.9163\n",
      "Epoch 3/100\n",
      "138/138 - 0s - loss: 0.2046 - accuracy: 0.9288\n",
      "Epoch 4/100\n",
      "138/138 - 0s - loss: 0.1365 - accuracy: 0.9791\n",
      "Epoch 5/100\n",
      "138/138 - 0s - loss: 0.0869 - accuracy: 0.9891\n",
      "Epoch 6/100\n",
      "138/138 - 0s - loss: 0.0596 - accuracy: 0.9923\n",
      "Epoch 7/100\n",
      "138/138 - 0s - loss: 0.0457 - accuracy: 0.9929\n",
      "Epoch 8/100\n",
      "138/138 - 0s - loss: 0.0384 - accuracy: 0.9936\n",
      "Epoch 9/100\n",
      "138/138 - 0s - loss: 0.0344 - accuracy: 0.9943\n",
      "Epoch 10/100\n",
      "138/138 - 0s - loss: 0.0341 - accuracy: 0.9939\n",
      "Epoch 11/100\n",
      "138/138 - 0s - loss: 0.0309 - accuracy: 0.9948\n",
      "Epoch 12/100\n",
      "138/138 - 0s - loss: 0.0289 - accuracy: 0.9943\n",
      "Epoch 13/100\n",
      "138/138 - 0s - loss: 0.0282 - accuracy: 0.9948\n",
      "Epoch 14/100\n",
      "138/138 - 0s - loss: 0.0289 - accuracy: 0.9945\n",
      "Epoch 15/100\n",
      "138/138 - 0s - loss: 0.0265 - accuracy: 0.9950\n",
      "Epoch 16/100\n",
      "138/138 - 0s - loss: 0.0256 - accuracy: 0.9950\n",
      "Epoch 17/100\n",
      "138/138 - 0s - loss: 0.0242 - accuracy: 0.9948\n",
      "Epoch 18/100\n",
      "138/138 - 0s - loss: 0.0264 - accuracy: 0.9948\n",
      "Epoch 19/100\n",
      "138/138 - 0s - loss: 0.0246 - accuracy: 0.9952\n",
      "Epoch 20/100\n",
      "138/138 - 0s - loss: 0.0239 - accuracy: 0.9948\n",
      "Epoch 21/100\n",
      "138/138 - 0s - loss: 0.0271 - accuracy: 0.9952\n",
      "Epoch 22/100\n",
      "138/138 - 0s - loss: 0.0263 - accuracy: 0.9948\n",
      "Epoch 23/100\n",
      "138/138 - 0s - loss: 0.0255 - accuracy: 0.9948\n",
      "Epoch 24/100\n",
      "138/138 - 0s - loss: 0.0277 - accuracy: 0.9943\n",
      "Epoch 25/100\n",
      "138/138 - 0s - loss: 0.0245 - accuracy: 0.9950\n",
      "Epoch 26/100\n",
      "138/138 - 0s - loss: 0.0231 - accuracy: 0.9950\n",
      "Epoch 27/100\n",
      "138/138 - 0s - loss: 0.0239 - accuracy: 0.9952\n",
      "Epoch 28/100\n",
      "138/138 - 0s - loss: 0.0224 - accuracy: 0.9952\n",
      "Epoch 29/100\n",
      "138/138 - 0s - loss: 0.0221 - accuracy: 0.9950\n",
      "Epoch 30/100\n",
      "138/138 - 0s - loss: 0.0243 - accuracy: 0.9952\n",
      "Epoch 31/100\n",
      "138/138 - 0s - loss: 0.0216 - accuracy: 0.9950\n",
      "Epoch 32/100\n",
      "138/138 - 0s - loss: 0.0213 - accuracy: 0.9954\n",
      "Epoch 33/100\n",
      "138/138 - 0s - loss: 0.0224 - accuracy: 0.9943\n",
      "Epoch 34/100\n",
      "138/138 - 0s - loss: 0.0233 - accuracy: 0.9952\n",
      "Epoch 35/100\n",
      "138/138 - 0s - loss: 0.0222 - accuracy: 0.9954\n",
      "Epoch 36/100\n",
      "138/138 - 0s - loss: 0.0251 - accuracy: 0.9952\n",
      "Epoch 37/100\n",
      "138/138 - 0s - loss: 0.0215 - accuracy: 0.9950\n",
      "Epoch 38/100\n",
      "138/138 - 0s - loss: 0.0238 - accuracy: 0.9950\n",
      "Epoch 39/100\n",
      "138/138 - 0s - loss: 0.0230 - accuracy: 0.9950\n",
      "Epoch 40/100\n",
      "138/138 - 0s - loss: 0.0232 - accuracy: 0.9950\n",
      "Epoch 41/100\n",
      "138/138 - 0s - loss: 0.0196 - accuracy: 0.9952\n",
      "Epoch 42/100\n",
      "138/138 - 0s - loss: 0.0209 - accuracy: 0.9954\n",
      "Epoch 43/100\n",
      "138/138 - 0s - loss: 0.0235 - accuracy: 0.9954\n",
      "Epoch 44/100\n",
      "138/138 - 0s - loss: 0.0215 - accuracy: 0.9952\n",
      "Epoch 45/100\n",
      "138/138 - 0s - loss: 0.0210 - accuracy: 0.9954\n",
      "Epoch 46/100\n",
      "138/138 - 0s - loss: 0.0205 - accuracy: 0.9954\n",
      "Epoch 47/100\n",
      "138/138 - 0s - loss: 0.0242 - accuracy: 0.9954\n",
      "Epoch 48/100\n",
      "138/138 - 0s - loss: 0.0207 - accuracy: 0.9954\n",
      "Epoch 49/100\n",
      "138/138 - 0s - loss: 0.0203 - accuracy: 0.9957\n",
      "Epoch 50/100\n",
      "138/138 - 0s - loss: 0.0195 - accuracy: 0.9954\n",
      "Epoch 51/100\n",
      "138/138 - 0s - loss: 0.0199 - accuracy: 0.9954\n",
      "Epoch 52/100\n",
      "138/138 - 0s - loss: 0.0195 - accuracy: 0.9954\n",
      "Epoch 53/100\n",
      "138/138 - 0s - loss: 0.0198 - accuracy: 0.9954\n",
      "Epoch 54/100\n",
      "138/138 - 0s - loss: 0.0206 - accuracy: 0.9954\n",
      "Epoch 55/100\n",
      "138/138 - 0s - loss: 0.0198 - accuracy: 0.9957\n",
      "Epoch 56/100\n",
      "138/138 - 0s - loss: 0.0200 - accuracy: 0.9954\n",
      "Epoch 57/100\n",
      "138/138 - 0s - loss: 0.0193 - accuracy: 0.9954\n",
      "Epoch 58/100\n",
      "138/138 - 0s - loss: 0.0217 - accuracy: 0.9952\n",
      "Epoch 59/100\n",
      "138/138 - 0s - loss: 0.0188 - accuracy: 0.9959\n",
      "Epoch 60/100\n",
      "138/138 - 0s - loss: 0.0211 - accuracy: 0.9957\n",
      "Epoch 61/100\n",
      "138/138 - 0s - loss: 0.0199 - accuracy: 0.9959\n",
      "Epoch 62/100\n",
      "138/138 - 0s - loss: 0.0192 - accuracy: 0.9957\n",
      "Epoch 63/100\n",
      "138/138 - 0s - loss: 0.0199 - accuracy: 0.9957\n",
      "Epoch 64/100\n",
      "138/138 - 0s - loss: 0.0202 - accuracy: 0.9957\n",
      "Epoch 65/100\n",
      "138/138 - 0s - loss: 0.0180 - accuracy: 0.9957\n",
      "Epoch 66/100\n",
      "138/138 - 0s - loss: 0.0192 - accuracy: 0.9957\n",
      "Epoch 67/100\n",
      "138/138 - 0s - loss: 0.0210 - accuracy: 0.9957\n",
      "Epoch 68/100\n",
      "138/138 - 0s - loss: 0.0191 - accuracy: 0.9959\n",
      "Epoch 69/100\n",
      "138/138 - 0s - loss: 0.0190 - accuracy: 0.9957\n",
      "Epoch 70/100\n",
      "138/138 - 0s - loss: 0.0204 - accuracy: 0.9959\n",
      "Epoch 71/100\n",
      "138/138 - 0s - loss: 0.0186 - accuracy: 0.9957\n",
      "Epoch 72/100\n",
      "138/138 - 0s - loss: 0.0183 - accuracy: 0.9959\n",
      "Epoch 73/100\n",
      "138/138 - 0s - loss: 0.0179 - accuracy: 0.9957\n",
      "Epoch 74/100\n",
      "138/138 - 0s - loss: 0.0197 - accuracy: 0.9954\n",
      "Epoch 75/100\n",
      "138/138 - 0s - loss: 0.0184 - accuracy: 0.9961\n",
      "Epoch 76/100\n",
      "138/138 - 0s - loss: 0.0185 - accuracy: 0.9961\n",
      "Epoch 77/100\n",
      "138/138 - 0s - loss: 0.0173 - accuracy: 0.9959\n",
      "Epoch 78/100\n",
      "138/138 - 0s - loss: 0.0192 - accuracy: 0.9961\n",
      "Epoch 79/100\n",
      "138/138 - 0s - loss: 0.0194 - accuracy: 0.9959\n",
      "Epoch 80/100\n",
      "138/138 - 0s - loss: 0.0177 - accuracy: 0.9961\n",
      "Epoch 81/100\n",
      "138/138 - 0s - loss: 0.0173 - accuracy: 0.9964\n",
      "Epoch 82/100\n",
      "138/138 - 0s - loss: 0.0177 - accuracy: 0.9964\n",
      "Epoch 83/100\n",
      "138/138 - 0s - loss: 0.0176 - accuracy: 0.9961\n",
      "Epoch 84/100\n",
      "138/138 - 0s - loss: 0.0168 - accuracy: 0.9961\n",
      "Epoch 85/100\n",
      "138/138 - 0s - loss: 0.0177 - accuracy: 0.9961\n",
      "Epoch 86/100\n",
      "138/138 - 0s - loss: 0.0170 - accuracy: 0.9964\n",
      "Epoch 87/100\n",
      "138/138 - 0s - loss: 0.0179 - accuracy: 0.9961\n",
      "Epoch 88/100\n",
      "138/138 - 0s - loss: 0.0171 - accuracy: 0.9961\n",
      "Epoch 89/100\n",
      "138/138 - 0s - loss: 0.0170 - accuracy: 0.9961\n",
      "Epoch 90/100\n",
      "138/138 - 0s - loss: 0.0160 - accuracy: 0.9964\n",
      "Epoch 91/100\n",
      "138/138 - 0s - loss: 0.0160 - accuracy: 0.9961\n",
      "Epoch 92/100\n",
      "138/138 - 0s - loss: 0.0175 - accuracy: 0.9964\n",
      "Epoch 93/100\n",
      "138/138 - 0s - loss: 0.0188 - accuracy: 0.9961\n",
      "Epoch 94/100\n",
      "138/138 - 0s - loss: 0.0182 - accuracy: 0.9959\n",
      "Epoch 95/100\n",
      "138/138 - 0s - loss: 0.0157 - accuracy: 0.9964\n",
      "Epoch 96/100\n",
      "138/138 - 0s - loss: 0.0158 - accuracy: 0.9961\n",
      "Epoch 97/100\n",
      "138/138 - 0s - loss: 0.0171 - accuracy: 0.9968\n",
      "Epoch 98/100\n",
      "138/138 - 0s - loss: 0.0167 - accuracy: 0.9961\n",
      "Epoch 99/100\n",
      "138/138 - 0s - loss: 0.0168 - accuracy: 0.9966\n",
      "Epoch 100/100\n",
      "138/138 - 0s - loss: 0.0156 - accuracy: 0.9966\n"
     ]
    }
   ],
   "source": [
    "finding = model.fit(\n",
    "    X_train_scaled,\n",
    "    y_train_categorical,\n",
    "    epochs=100,\n",
    "    shuffle=True,\n",
    "    verbose=2\n",
    ")"
   ]
  },
  {
   "cell_type": "code",
   "execution_count": 27,
   "metadata": {},
   "outputs": [
    {
     "name": "stdout",
     "output_type": "stream",
     "text": [
      "46/46 - 0s - loss: 0.0184 - accuracy: 0.9959\n",
      "Normal Neural Network - Loss: 0.018362192437052727, Accuracy: 0.9959072470664978\n"
     ]
    }
   ],
   "source": [
    "model_loss, model_accuracy = model.evaluate(\n",
    "    X_test_scaled, y_test_categorical, verbose=2)\n",
    "print(\n",
    "    f\"Normal Neural Network - Loss: {model_loss}, Accuracy: {model_accuracy}\")\n",
    "\n"
   ]
  },
  {
   "cell_type": "code",
   "execution_count": 28,
   "metadata": {},
   "outputs": [],
   "source": [
    "encoded_predictions = model.predict_classes(X_test_scaled[:5])\n",
    "prediction_labels = label_encoder.inverse_transform(encoded_predictions)"
   ]
  },
  {
   "cell_type": "code",
   "execution_count": 29,
   "metadata": {},
   "outputs": [
    {
     "name": "stdout",
     "output_type": "stream",
     "text": [
      "Predicted classes: [2 2 1 3 2]\n",
      "Actual Labels: [2, 2, 1, 3, 2, 1, 3, 2, 2, 3, 3, 2, 0, 2, 2]\n"
     ]
    }
   ],
   "source": [
    "print(f\"Predicted classes: {prediction_labels}\")\n",
    "print(f\"Actual Labels: {list(y_test[:15])}\")"
   ]
  },
  {
   "cell_type": "code",
   "execution_count": 30,
   "metadata": {},
   "outputs": [],
   "source": [
    "def visualize_training_finding(finding):\n",
    "    \"\"\"\n",
    "    Plots the loss and accuracy for the training and testing data\n",
    "    \"\"\"\n",
    "    history = finding.history\n",
    "    plt.figure(figsize=(12,4))\n",
    "    \n",
    "    plt.plot(history['loss'])\n",
    "    plt.legend(['val_loss', 'loss'])\n",
    "    plt.title('Etherium Loss')\n",
    "    plt.xlabel('Etherium Epochs')\n",
    "    plt.ylabel('Etherium Loss')\n",
    "    plt.show()\n",
    "    \n",
    "    plt.figure(figsize=(12,4))\n",
    "    plt.plot(history['accuracy'])\n",
    "    plt.plot(history['accuracy'])\n",
    "    plt.legend(['model_loss', 'model_accuracy'])\n",
    "    plt.title('Etherium Accuracy')\n",
    "    plt.xlabel('Etherium Epochs')\n",
    "    plt.ylabel('Etherium Accuracy')\n",
    "    plt.show()"
   ]
  },
  {
   "cell_type": "code",
   "execution_count": 31,
   "metadata": {},
   "outputs": [
    {
     "data": {
      "image/png": "[encoded data removed]",
      "text/plain": [
       "<Figure size 864x288 with 1 Axes>"
      ]
     },
     "metadata": {},
     "output_type": "display_data"
    },
    {
     "data": {
      "image/png": "[encoded data removed]",
      "text/plain": [
       "<Figure size 864x288 with 1 Axes>"
      ]
     },
     "metadata": {},
     "output_type": "display_data"
    }
   ],
   "source": [
    "visualize_training_finding(finding)"
   ]
  },
  {
   "cell_type": "code",
   "execution_count": null,
   "metadata": {},
   "outputs": [],
   "source": []
  }
 ],
 "metadata": {
  "kernelspec": {
   "display_name": "Python 3",
   "language": "python",
   "name": "python3"
  },
  "language_info": {
   "codemirror_mode": {
    "name": "ipython",
    "version": 3
   },
   "file_extension": ".py",
   "mimetype": "text/x-python",
   "name": "python",
   "nbconvert_exporter": "python",
   "pygments_lexer": "ipython3",
   "version": "3.8.3"
  }
 },
 "nbformat": 4,
 "nbformat_minor": 5
}
