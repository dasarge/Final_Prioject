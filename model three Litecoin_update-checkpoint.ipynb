{
 "cells": [
  {
   "cell_type": "code",
   "execution_count": 123,
   "id": "569faf54",
   "metadata": {},
   "outputs": [],
   "source": [
    "# Set the seed value for the notebook so the results are reproducible\n",
    "from numpy.random import seed\n",
    "seed(1)"
   ]
  },
  {
   "cell_type": "code",
   "execution_count": 124,
   "id": "ebed737d",
   "metadata": {},
   "outputs": [
    {
     "data": {
      "text/plain": [
       "'2.2.4-tf'"
      ]
     },
     "execution_count": 124,
     "metadata": {},
     "output_type": "execute_result"
    }
   ],
   "source": [
    "import os\n",
    "import tensorflow as tf\n",
    "from tensorflow.keras.models import Sequential\n",
    "from tensorflow.keras.utils import to_categorical\n",
    "from tensorflow.keras.layers import Dense\n",
    "import numpy as np\n",
    "import pandas as pd\n",
    "import matplotlib.pyplot as plt\n",
    "\n",
    "import warnings\n",
    "warnings.filterwarnings(\"ignore\")\n",
    "from sklearn import metrics\n",
    "from sklearn.metrics import accuracy_score\n",
    "from matplotlib import style\n",
    "style.use(\"ggplot\")\n",
    "\n",
    "import tensorflow\n",
    "tensorflow.keras.__version__"
   ]
  },
  {
   "cell_type": "code",
   "execution_count": 125,
   "id": "d4b8de52",
   "metadata": {},
   "outputs": [],
   "source": [
    "import pandas, sys\n",
    "import pandas as pd\n",
    "\n",
    "\n",
    "#gold = pd.read_csv(\"c:/Users/George Aziz/desktop/Final_Project/data/gold.csv\")\n",
    "#litcoin = pd.read_csv(\"c:/Users/George Aziz/desktop/Final_Project/data/litecoin.csv\")\n",
    "#dollar = pd.read_csv(\"c:/Users/George Aziz/desktop/Final_Project/data/dollar.csv\")\n",
    "#SP_500 = pd.read_csv(\"c:/Users/George Aziz/desktop/Final_Project/data/S&P500.csv\")\n",
    "\n",
    "#model_three_litcoin = pd.concat ([gold, litcoin, dollar, SP_500])\n",
    "\n",
    "#model_three_litcoin.to_csv (\"c:/Users/George Aziz/desktop/Final_Project/data/model_three_litcoin.csv\", index=False)\n",
    "\n",
    "#model_three_litcoin.head()"
   ]
  },
  {
   "cell_type": "code",
   "execution_count": 126,
   "id": "d739d2aa",
   "metadata": {},
   "outputs": [
    {
     "data": {
      "text/plain": [
       "(5861, 10)"
      ]
     },
     "execution_count": 126,
     "metadata": {},
     "output_type": "execute_result"
    }
   ],
   "source": [
    "model_three_litcoin = pd.read_csv(\"c:/Users/George Aziz/desktop/Final_Project/data/model_three_litcoin.csv\")\n",
    "\n",
    "\n",
    "\n",
    "model_three_litcoin.shape"
   ]
  },
  {
   "cell_type": "code",
   "execution_count": 127,
   "id": "a7a68ad6",
   "metadata": {},
   "outputs": [
    {
     "data": {
      "text/html": [
       "<div>\n",
       "<style scoped>\n",
       "    .dataframe tbody tr th:only-of-type {\n",
       "        vertical-align: middle;\n",
       "    }\n",
       "\n",
       "    .dataframe tbody tr th {\n",
       "        vertical-align: top;\n",
       "    }\n",
       "\n",
       "    .dataframe thead th {\n",
       "        text-align: right;\n",
       "    }\n",
       "</style>\n",
       "<table border=\"1\" class=\"dataframe\">\n",
       "  <thead>\n",
       "    <tr style=\"text-align: right;\">\n",
       "      <th></th>\n",
       "      <th>Open</th>\n",
       "      <th>High</th>\n",
       "      <th>Low</th>\n",
       "      <th>Close</th>\n",
       "      <th>Adj Close</th>\n",
       "      <th>Volume</th>\n",
       "    </tr>\n",
       "  </thead>\n",
       "  <tbody>\n",
       "    <tr>\n",
       "      <th>count</th>\n",
       "      <td>5575.000000</td>\n",
       "      <td>5575.000000</td>\n",
       "      <td>5575.000000</td>\n",
       "      <td>4316.000000</td>\n",
       "      <td>4316.000000</td>\n",
       "      <td>5.575000e+03</td>\n",
       "    </tr>\n",
       "    <tr>\n",
       "      <th>mean</th>\n",
       "      <td>987.053498</td>\n",
       "      <td>992.559749</td>\n",
       "      <td>981.161096</td>\n",
       "      <td>464.884838</td>\n",
       "      <td>464.884838</td>\n",
       "      <td>1.479789e+09</td>\n",
       "    </tr>\n",
       "    <tr>\n",
       "      <th>std</th>\n",
       "      <td>1132.196155</td>\n",
       "      <td>1137.464117</td>\n",
       "      <td>1126.493587</td>\n",
       "      <td>621.164061</td>\n",
       "      <td>621.164061</td>\n",
       "      <td>2.112506e+09</td>\n",
       "    </tr>\n",
       "    <tr>\n",
       "      <th>min</th>\n",
       "      <td>3.220000</td>\n",
       "      <td>3.230000</td>\n",
       "      <td>3.200000</td>\n",
       "      <td>3.220000</td>\n",
       "      <td>3.220000</td>\n",
       "      <td>0.000000e+00</td>\n",
       "    </tr>\n",
       "    <tr>\n",
       "      <th>25%</th>\n",
       "      <td>85.170000</td>\n",
       "      <td>89.175000</td>\n",
       "      <td>81.930000</td>\n",
       "      <td>58.595000</td>\n",
       "      <td>58.595000</td>\n",
       "      <td>1.100000e+01</td>\n",
       "    </tr>\n",
       "    <tr>\n",
       "      <th>50%</th>\n",
       "      <td>119.900000</td>\n",
       "      <td>124.170000</td>\n",
       "      <td>116.580000</td>\n",
       "      <td>96.600000</td>\n",
       "      <td>96.600000</td>\n",
       "      <td>6.571900e+06</td>\n",
       "    </tr>\n",
       "    <tr>\n",
       "      <th>75%</th>\n",
       "      <td>1821.450000</td>\n",
       "      <td>1829.700000</td>\n",
       "      <td>1807.400000</td>\n",
       "      <td>1225.300000</td>\n",
       "      <td>1225.300000</td>\n",
       "      <td>3.219455e+09</td>\n",
       "    </tr>\n",
       "    <tr>\n",
       "      <th>max</th>\n",
       "      <td>3973.590000</td>\n",
       "      <td>3994.410000</td>\n",
       "      <td>3966.980000</td>\n",
       "      <td>2051.500000</td>\n",
       "      <td>2051.500000</td>\n",
       "      <td>1.799426e+10</td>\n",
       "    </tr>\n",
       "  </tbody>\n",
       "</table>\n",
       "</div>"
      ],
      "text/plain": [
       "              Open         High          Low        Close    Adj Close  \\\n",
       "count  5575.000000  5575.000000  5575.000000  4316.000000  4316.000000   \n",
       "mean    987.053498   992.559749   981.161096   464.884838   464.884838   \n",
       "std    1132.196155  1137.464117  1126.493587   621.164061   621.164061   \n",
       "min       3.220000     3.230000     3.200000     3.220000     3.220000   \n",
       "25%      85.170000    89.175000    81.930000    58.595000    58.595000   \n",
       "50%     119.900000   124.170000   116.580000    96.600000    96.600000   \n",
       "75%    1821.450000  1829.700000  1807.400000  1225.300000  1225.300000   \n",
       "max    3973.590000  3994.410000  3966.980000  2051.500000  2051.500000   \n",
       "\n",
       "             Volume  \n",
       "count  5.575000e+03  \n",
       "mean   1.479789e+09  \n",
       "std    2.112506e+09  \n",
       "min    0.000000e+00  \n",
       "25%    1.100000e+01  \n",
       "50%    6.571900e+06  \n",
       "75%    3.219455e+09  \n",
       "max    1.799426e+10  "
      ]
     },
     "execution_count": 127,
     "metadata": {},
     "output_type": "execute_result"
    }
   ],
   "source": [
    "model_three_litcoin.describe()"
   ]
  },
  {
   "cell_type": "code",
   "execution_count": 128,
   "id": "1d32850d",
   "metadata": {},
   "outputs": [
    {
     "data": {
      "text/plain": [
       "Index(['Date', 'Open', 'High', 'Low', 'Close', 'Adj Close', 'Volume', 'Ticker',\n",
       "       'Close*', 'Adj Close**'],\n",
       "      dtype='object')"
      ]
     },
     "execution_count": 128,
     "metadata": {},
     "output_type": "execute_result"
    }
   ],
   "source": [
    "model_three_litcoin.columns"
   ]
  },
  {
   "cell_type": "code",
   "execution_count": 129,
   "id": "2f3d110f",
   "metadata": {},
   "outputs": [],
   "source": [
    "model_three_litcoin = model_three_litcoin.drop ('Date', axis=1)"
   ]
  },
  {
   "cell_type": "code",
   "execution_count": 130,
   "id": "abd49663",
   "metadata": {},
   "outputs": [],
   "source": [
    "model_three_litcoin = model_three_litcoin.drop ('Close*', axis=1)"
   ]
  },
  {
   "cell_type": "code",
   "execution_count": 131,
   "id": "216dc68e",
   "metadata": {},
   "outputs": [],
   "source": [
    "model_three_litcoin = model_three_litcoin.drop ('Adj Close**', axis=1)"
   ]
  },
  {
   "cell_type": "code",
   "execution_count": 132,
   "id": "f6b805d3",
   "metadata": {},
   "outputs": [
    {
     "data": {
      "text/html": [
       "<div>\n",
       "<style scoped>\n",
       "    .dataframe tbody tr th:only-of-type {\n",
       "        vertical-align: middle;\n",
       "    }\n",
       "\n",
       "    .dataframe tbody tr th {\n",
       "        vertical-align: top;\n",
       "    }\n",
       "\n",
       "    .dataframe thead th {\n",
       "        text-align: right;\n",
       "    }\n",
       "</style>\n",
       "<table border=\"1\" class=\"dataframe\">\n",
       "  <thead>\n",
       "    <tr style=\"text-align: right;\">\n",
       "      <th></th>\n",
       "      <th>Open</th>\n",
       "      <th>High</th>\n",
       "      <th>Low</th>\n",
       "      <th>Close</th>\n",
       "      <th>Adj Close</th>\n",
       "      <th>Volume</th>\n",
       "      <th>Ticker</th>\n",
       "    </tr>\n",
       "  </thead>\n",
       "  <tbody>\n",
       "    <tr>\n",
       "      <th>0</th>\n",
       "      <td>1232.3</td>\n",
       "      <td>1235.2</td>\n",
       "      <td>1209.2</td>\n",
       "      <td>1222.2</td>\n",
       "      <td>1222.2</td>\n",
       "      <td>1602.0</td>\n",
       "      <td>gold</td>\n",
       "    </tr>\n",
       "    <tr>\n",
       "      <th>1</th>\n",
       "      <td>1221.7</td>\n",
       "      <td>1222.3</td>\n",
       "      <td>1215.0</td>\n",
       "      <td>1218.0</td>\n",
       "      <td>1218.0</td>\n",
       "      <td>2038.0</td>\n",
       "      <td>gold</td>\n",
       "    </tr>\n",
       "    <tr>\n",
       "      <th>2</th>\n",
       "      <td>1215.4</td>\n",
       "      <td>1236.7</td>\n",
       "      <td>1215.4</td>\n",
       "      <td>1228.4</td>\n",
       "      <td>1228.4</td>\n",
       "      <td>477.0</td>\n",
       "      <td>gold</td>\n",
       "    </tr>\n",
       "    <tr>\n",
       "      <th>3</th>\n",
       "      <td>1230.4</td>\n",
       "      <td>1230.4</td>\n",
       "      <td>1217.6</td>\n",
       "      <td>1222.5</td>\n",
       "      <td>1222.5</td>\n",
       "      <td>248.0</td>\n",
       "      <td>gold</td>\n",
       "    </tr>\n",
       "    <tr>\n",
       "      <th>4</th>\n",
       "      <td>1224.8</td>\n",
       "      <td>1242.9</td>\n",
       "      <td>1224.6</td>\n",
       "      <td>1236.2</td>\n",
       "      <td>1236.2</td>\n",
       "      <td>375.0</td>\n",
       "      <td>gold</td>\n",
       "    </tr>\n",
       "  </tbody>\n",
       "</table>\n",
       "</div>"
      ],
      "text/plain": [
       "     Open    High     Low   Close  Adj Close  Volume Ticker\n",
       "0  1232.3  1235.2  1209.2  1222.2     1222.2  1602.0   gold\n",
       "1  1221.7  1222.3  1215.0  1218.0     1218.0  2038.0   gold\n",
       "2  1215.4  1236.7  1215.4  1228.4     1228.4   477.0   gold\n",
       "3  1230.4  1230.4  1217.6  1222.5     1222.5   248.0   gold\n",
       "4  1224.8  1242.9  1224.6  1236.2     1236.2   375.0   gold"
      ]
     },
     "execution_count": 132,
     "metadata": {},
     "output_type": "execute_result"
    }
   ],
   "source": [
    "model_three_litcoin.head()"
   ]
  },
  {
   "cell_type": "code",
   "execution_count": 133,
   "id": "f25a9626",
   "metadata": {},
   "outputs": [],
   "source": [
    "from sklearn.preprocessing import LabelEncoder\n",
    "le = LabelEncoder()"
   ]
  },
  {
   "cell_type": "code",
   "execution_count": 134,
   "id": "4a4bf19c",
   "metadata": {},
   "outputs": [
    {
     "data": {
      "text/plain": [
       "<bound method _flex_comp_method_FRAME.<locals>.f of          Open     High      Low   Close  Adj Close        Volume  Ticker\n",
       "0     1232.30  1235.20  1209.20  1222.2     1222.2  1.602000e+03       2\n",
       "1     1221.70  1222.30  1215.00  1218.0     1218.0  2.038000e+03       2\n",
       "2     1215.40  1236.70  1215.40  1228.4     1228.4  4.770000e+02       2\n",
       "3     1230.40  1230.40  1217.60  1222.5     1222.5  2.480000e+02       2\n",
       "4     1224.80  1242.90  1224.60  1236.2     1236.2  3.750000e+02       2\n",
       "...       ...      ...      ...     ...        ...           ...     ...\n",
       "5856  2063.01  2063.01  2033.80     NaN        NaN  3.801250e+09       0\n",
       "5857  2045.56  2067.33  2043.09     NaN        NaN  3.750800e+09       0\n",
       "5858  2062.50  2062.50  2042.56     NaN        NaN  4.154920e+09       0\n",
       "5859  2073.19  2074.02  2062.57     NaN        NaN  3.485710e+09       0\n",
       "5860  2056.62  2075.07  2043.98     NaN        NaN  3.749990e+09       0\n",
       "\n",
       "[5861 rows x 7 columns]>"
      ]
     },
     "execution_count": 134,
     "metadata": {},
     "output_type": "execute_result"
    }
   ],
   "source": [
    "model_three_litcoin_le = model_three_litcoin\n",
    "\n",
    "model_three_litcoin_le.Ticker = le.fit_transform(model_three_litcoin_le.Ticker)\n",
    "\n",
    "model_three_litcoin.le"
   ]
  },
  {
   "cell_type": "code",
   "execution_count": 135,
   "id": "0a8e90f6",
   "metadata": {},
   "outputs": [],
   "source": [
    "#model_three_litcoin_le.fillna(model_three_litcoin_le.mean(), inplace=True\n",
    "\n",
    "model_three_litcoin_le.fillna(value=model_three_litcoin_le['Open'].mean(), inplace=True)"
   ]
  },
  {
   "cell_type": "code",
   "execution_count": 136,
   "id": "fe102e7f",
   "metadata": {},
   "outputs": [],
   "source": [
    "model_three_litcoin_le.fillna(value=model_three_litcoin_le['High'].mean(), inplace=True)"
   ]
  },
  {
   "cell_type": "code",
   "execution_count": 137,
   "id": "72e0d584",
   "metadata": {},
   "outputs": [],
   "source": [
    "model_three_litcoin_le.fillna(value=model_three_litcoin_le['Low'].mean(), inplace=True)"
   ]
  },
  {
   "cell_type": "code",
   "execution_count": 138,
   "id": "10680f74",
   "metadata": {},
   "outputs": [],
   "source": [
    "model_three_litcoin_le.fillna(value=model_three_litcoin_le['Close'].mean(), inplace=True)"
   ]
  },
  {
   "cell_type": "code",
   "execution_count": 139,
   "id": "ab612386",
   "metadata": {},
   "outputs": [],
   "source": [
    "model_three_litcoin_le.fillna(value=model_three_litcoin_le['Adj Close'].mean(), inplace=True)"
   ]
  },
  {
   "cell_type": "code",
   "execution_count": 140,
   "id": "af4be138",
   "metadata": {},
   "outputs": [],
   "source": [
    "model_three_litcoin_le.fillna(value=model_three_litcoin_le['Volume'].mean(), inplace=True)"
   ]
  },
  {
   "cell_type": "code",
   "execution_count": 141,
   "id": "9ef8e683",
   "metadata": {},
   "outputs": [
    {
     "name": "stdout",
     "output_type": "stream",
     "text": [
      "(5861, 6) (5861,)\n"
     ]
    }
   ],
   "source": [
    "X = model_three_litcoin_le.drop(\"Ticker\", axis=1)\n",
    "y = model_three_litcoin_le[\"Ticker\"]\n",
    "print(X.shape, y.shape)"
   ]
  },
  {
   "cell_type": "code",
   "execution_count": 142,
   "id": "d93601e2",
   "metadata": {},
   "outputs": [],
   "source": [
    "from sklearn.model_selection import train_test_split\n",
    "from sklearn.preprocessing import LabelEncoder, MinMaxScaler\n",
    "from tensorflow.keras.utils import to_categorical"
   ]
  },
  {
   "cell_type": "code",
   "execution_count": 143,
   "id": "2d6538ce",
   "metadata": {},
   "outputs": [],
   "source": [
    "X_train, X_test, y_train, y_test = train_test_split(\n",
    "    X, y, random_state=1)"
   ]
  },
  {
   "cell_type": "code",
   "execution_count": 144,
   "id": "6b641899",
   "metadata": {},
   "outputs": [],
   "source": [
    "X_scaler = MinMaxScaler().fit(X_train)\n",
    "X_train_scaled = X_scaler.transform(X_train)\n",
    "X_test_scaled = X_scaler.transform(X_test)"
   ]
  },
  {
   "cell_type": "code",
   "execution_count": 145,
   "id": "8fc73e0c",
   "metadata": {},
   "outputs": [],
   "source": [
    "label_encoder = LabelEncoder()\n",
    "label_encoder.fit(y_train)\n",
    "encoded_y_train = label_encoder.transform(y_train)\n",
    "encoded_y_test = label_encoder.transform(y_test)"
   ]
  },
  {
   "cell_type": "code",
   "execution_count": 146,
   "id": "8fbf7e1a",
   "metadata": {},
   "outputs": [],
   "source": [
    "y_train_categorical = to_categorical(encoded_y_train)\n",
    "y_test_categorical = to_categorical(encoded_y_test)"
   ]
  },
  {
   "cell_type": "code",
   "execution_count": 147,
   "id": "f5102b35",
   "metadata": {},
   "outputs": [],
   "source": [
    "from tensorflow.keras.models import Sequential\n",
    "from tensorflow.keras.layers import Dense"
   ]
  },
  {
   "cell_type": "code",
   "execution_count": 174,
   "id": "b2776f97",
   "metadata": {},
   "outputs": [],
   "source": [
    "model = Sequential()\n",
    "model.add(Dense(units=100, activation='relu', input_dim=6))\n",
    "model.add(Dense(units=100, activation='relu'))\n",
    "model.add(Dense(units=4, activation='softmax'))"
   ]
  },
  {
   "cell_type": "code",
   "execution_count": 175,
   "id": "9d5e6dfa",
   "metadata": {},
   "outputs": [],
   "source": [
    "model.compile(optimizer='adam',\n",
    "              loss='categorical_crossentropy',\n",
    "              metrics=['accuracy'])"
   ]
  },
  {
   "cell_type": "code",
   "execution_count": 176,
   "id": "ef507b70",
   "metadata": {},
   "outputs": [
    {
     "name": "stdout",
     "output_type": "stream",
     "text": [
      "Model: \"sequential_6\"\n",
      "_________________________________________________________________\n",
      "Layer (type)                 Output Shape              Param #   \n",
      "=================================================================\n",
      "dense_18 (Dense)             (None, 100)               700       \n",
      "_________________________________________________________________\n",
      "dense_19 (Dense)             (None, 100)               10100     \n",
      "_________________________________________________________________\n",
      "dense_20 (Dense)             (None, 4)                 404       \n",
      "=================================================================\n",
      "Total params: 11,204\n",
      "Trainable params: 11,204\n",
      "Non-trainable params: 0\n",
      "_________________________________________________________________\n"
     ]
    }
   ],
   "source": [
    "model.summary()"
   ]
  },
  {
   "cell_type": "code",
   "execution_count": 177,
   "id": "38554bd3",
   "metadata": {},
   "outputs": [
    {
     "name": "stdout",
     "output_type": "stream",
     "text": [
      "Train on 4395 samples\n",
      "Epoch 1/100\n",
      "4395/4395 - 0s - loss: 0.7091 - accuracy: 0.7615\n",
      "Epoch 2/100\n",
      "4395/4395 - 0s - loss: 0.3014 - accuracy: 0.9199\n",
      "Epoch 3/100\n",
      "4395/4395 - 0s - loss: 0.1980 - accuracy: 0.9629\n",
      "Epoch 4/100\n",
      "4395/4395 - 0s - loss: 0.1273 - accuracy: 0.9752\n",
      "Epoch 5/100\n",
      "4395/4395 - 0s - loss: 0.0866 - accuracy: 0.9829\n",
      "Epoch 6/100\n",
      "4395/4395 - 0s - loss: 0.0641 - accuracy: 0.9854\n",
      "Epoch 7/100\n",
      "4395/4395 - 0s - loss: 0.0494 - accuracy: 0.9900\n",
      "Epoch 8/100\n",
      "4395/4395 - 0s - loss: 0.0389 - accuracy: 0.9916\n",
      "Epoch 9/100\n",
      "4395/4395 - 0s - loss: 0.0326 - accuracy: 0.9943\n",
      "Epoch 10/100\n",
      "4395/4395 - 0s - loss: 0.0293 - accuracy: 0.9954\n",
      "Epoch 11/100\n",
      "4395/4395 - 0s - loss: 0.0243 - accuracy: 0.9959\n",
      "Epoch 12/100\n",
      "4395/4395 - 0s - loss: 0.0235 - accuracy: 0.9966\n",
      "Epoch 13/100\n",
      "4395/4395 - 0s - loss: 0.0210 - accuracy: 0.9966\n",
      "Epoch 14/100\n",
      "4395/4395 - 0s - loss: 0.0208 - accuracy: 0.9968\n",
      "Epoch 15/100\n",
      "4395/4395 - 0s - loss: 0.0180 - accuracy: 0.9968\n",
      "Epoch 16/100\n",
      "4395/4395 - 0s - loss: 0.0167 - accuracy: 0.9975\n",
      "Epoch 17/100\n",
      "4395/4395 - 0s - loss: 0.0185 - accuracy: 0.9970\n",
      "Epoch 18/100\n",
      "4395/4395 - 0s - loss: 0.0183 - accuracy: 0.9970\n",
      "Epoch 19/100\n",
      "4395/4395 - 0s - loss: 0.0166 - accuracy: 0.9973\n",
      "Epoch 20/100\n",
      "4395/4395 - 0s - loss: 0.0165 - accuracy: 0.9975\n",
      "Epoch 21/100\n",
      "4395/4395 - 0s - loss: 0.0159 - accuracy: 0.9973\n",
      "Epoch 22/100\n",
      "4395/4395 - 0s - loss: 0.0172 - accuracy: 0.9964\n",
      "Epoch 23/100\n",
      "4395/4395 - 0s - loss: 0.0147 - accuracy: 0.9975\n",
      "Epoch 24/100\n",
      "4395/4395 - 0s - loss: 0.0160 - accuracy: 0.9975\n",
      "Epoch 25/100\n",
      "4395/4395 - 0s - loss: 0.0147 - accuracy: 0.9977\n",
      "Epoch 26/100\n",
      "4395/4395 - 0s - loss: 0.0141 - accuracy: 0.9977\n",
      "Epoch 27/100\n",
      "4395/4395 - 0s - loss: 0.0161 - accuracy: 0.9975\n",
      "Epoch 28/100\n",
      "4395/4395 - 0s - loss: 0.0139 - accuracy: 0.9975\n",
      "Epoch 29/100\n",
      "4395/4395 - 0s - loss: 0.0145 - accuracy: 0.9975\n",
      "Epoch 30/100\n",
      "4395/4395 - 0s - loss: 0.0144 - accuracy: 0.9966\n",
      "Epoch 31/100\n",
      "4395/4395 - 0s - loss: 0.0135 - accuracy: 0.9975\n",
      "Epoch 32/100\n",
      "4395/4395 - 0s - loss: 0.0139 - accuracy: 0.9975\n",
      "Epoch 33/100\n",
      "4395/4395 - 0s - loss: 0.0145 - accuracy: 0.9975\n",
      "Epoch 34/100\n",
      "4395/4395 - 0s - loss: 0.0138 - accuracy: 0.9977\n",
      "Epoch 35/100\n",
      "4395/4395 - 0s - loss: 0.0135 - accuracy: 0.9977\n",
      "Epoch 36/100\n",
      "4395/4395 - 0s - loss: 0.0135 - accuracy: 0.9975\n",
      "Epoch 37/100\n",
      "4395/4395 - 0s - loss: 0.0148 - accuracy: 0.9977\n",
      "Epoch 38/100\n",
      "4395/4395 - 0s - loss: 0.0152 - accuracy: 0.9966\n",
      "Epoch 39/100\n",
      "4395/4395 - 0s - loss: 0.0130 - accuracy: 0.9975\n",
      "Epoch 40/100\n",
      "4395/4395 - 0s - loss: 0.0130 - accuracy: 0.9977\n",
      "Epoch 41/100\n",
      "4395/4395 - 0s - loss: 0.0116 - accuracy: 0.9977\n",
      "Epoch 42/100\n",
      "4395/4395 - 0s - loss: 0.0138 - accuracy: 0.9977\n",
      "Epoch 43/100\n",
      "4395/4395 - 0s - loss: 0.0135 - accuracy: 0.9977\n",
      "Epoch 44/100\n",
      "4395/4395 - 0s - loss: 0.0132 - accuracy: 0.9977\n",
      "Epoch 45/100\n",
      "4395/4395 - 0s - loss: 0.0128 - accuracy: 0.9977\n",
      "Epoch 46/100\n",
      "4395/4395 - 0s - loss: 0.0130 - accuracy: 0.9977\n",
      "Epoch 47/100\n",
      "4395/4395 - 0s - loss: 0.0125 - accuracy: 0.9977\n",
      "Epoch 48/100\n",
      "4395/4395 - 0s - loss: 0.0127 - accuracy: 0.9977\n",
      "Epoch 49/100\n",
      "4395/4395 - 0s - loss: 0.0128 - accuracy: 0.9977\n",
      "Epoch 50/100\n",
      "4395/4395 - 0s - loss: 0.0128 - accuracy: 0.9977\n",
      "Epoch 51/100\n",
      "4395/4395 - 0s - loss: 0.0132 - accuracy: 0.9975\n",
      "Epoch 52/100\n",
      "4395/4395 - 0s - loss: 0.0132 - accuracy: 0.9977\n",
      "Epoch 53/100\n",
      "4395/4395 - 0s - loss: 0.0139 - accuracy: 0.9977\n",
      "Epoch 54/100\n",
      "4395/4395 - 0s - loss: 0.0129 - accuracy: 0.9970\n",
      "Epoch 55/100\n",
      "4395/4395 - 0s - loss: 0.0134 - accuracy: 0.9977\n",
      "Epoch 56/100\n",
      "4395/4395 - 0s - loss: 0.0123 - accuracy: 0.9977\n",
      "Epoch 57/100\n",
      "4395/4395 - 0s - loss: 0.0140 - accuracy: 0.9977\n",
      "Epoch 58/100\n",
      "4395/4395 - 0s - loss: 0.0121 - accuracy: 0.9977\n",
      "Epoch 59/100\n",
      "4395/4395 - 0s - loss: 0.0129 - accuracy: 0.9975\n",
      "Epoch 60/100\n",
      "4395/4395 - 0s - loss: 0.0136 - accuracy: 0.9977\n",
      "Epoch 61/100\n",
      "4395/4395 - 0s - loss: 0.0139 - accuracy: 0.9975\n",
      "Epoch 62/100\n",
      "4395/4395 - 0s - loss: 0.0126 - accuracy: 0.9975\n",
      "Epoch 63/100\n",
      "4395/4395 - 0s - loss: 0.0124 - accuracy: 0.9977\n",
      "Epoch 64/100\n",
      "4395/4395 - 0s - loss: 0.0128 - accuracy: 0.9977\n",
      "Epoch 65/100\n",
      "4395/4395 - 0s - loss: 0.0133 - accuracy: 0.9977\n",
      "Epoch 66/100\n",
      "4395/4395 - 0s - loss: 0.0131 - accuracy: 0.9977\n",
      "Epoch 67/100\n",
      "4395/4395 - 0s - loss: 0.0140 - accuracy: 0.9977\n",
      "Epoch 68/100\n",
      "4395/4395 - 0s - loss: 0.0113 - accuracy: 0.9977\n",
      "Epoch 69/100\n",
      "4395/4395 - 0s - loss: 0.0133 - accuracy: 0.9977\n",
      "Epoch 70/100\n",
      "4395/4395 - 0s - loss: 0.0121 - accuracy: 0.9977\n",
      "Epoch 71/100\n",
      "4395/4395 - 0s - loss: 0.0129 - accuracy: 0.9977\n",
      "Epoch 72/100\n",
      "4395/4395 - 0s - loss: 0.0130 - accuracy: 0.9977\n",
      "Epoch 73/100\n",
      "4395/4395 - 0s - loss: 0.0133 - accuracy: 0.9977\n",
      "Epoch 74/100\n",
      "4395/4395 - 0s - loss: 0.0128 - accuracy: 0.9977\n",
      "Epoch 75/100\n",
      "4395/4395 - 0s - loss: 0.0121 - accuracy: 0.9977\n",
      "Epoch 76/100\n",
      "4395/4395 - 0s - loss: 0.0123 - accuracy: 0.9977\n",
      "Epoch 77/100\n",
      "4395/4395 - 0s - loss: 0.0125 - accuracy: 0.9977\n",
      "Epoch 78/100\n",
      "4395/4395 - 0s - loss: 0.0128 - accuracy: 0.9977\n",
      "Epoch 79/100\n",
      "4395/4395 - 0s - loss: 0.0128 - accuracy: 0.9977\n",
      "Epoch 80/100\n",
      "4395/4395 - 0s - loss: 0.0125 - accuracy: 0.9977\n",
      "Epoch 81/100\n",
      "4395/4395 - 0s - loss: 0.0117 - accuracy: 0.9977\n",
      "Epoch 82/100\n",
      "4395/4395 - 0s - loss: 0.0127 - accuracy: 0.9977\n",
      "Epoch 83/100\n",
      "4395/4395 - 0s - loss: 0.0124 - accuracy: 0.9977\n",
      "Epoch 84/100\n",
      "4395/4395 - 0s - loss: 0.0120 - accuracy: 0.9977\n",
      "Epoch 85/100\n",
      "4395/4395 - 0s - loss: 0.0132 - accuracy: 0.9977\n",
      "Epoch 86/100\n",
      "4395/4395 - 0s - loss: 0.0125 - accuracy: 0.9977\n",
      "Epoch 87/100\n",
      "4395/4395 - 0s - loss: 0.0132 - accuracy: 0.9968\n",
      "Epoch 88/100\n",
      "4395/4395 - 0s - loss: 0.0123 - accuracy: 0.9977\n",
      "Epoch 89/100\n",
      "4395/4395 - 0s - loss: 0.0126 - accuracy: 0.9977\n",
      "Epoch 90/100\n",
      "4395/4395 - 0s - loss: 0.0123 - accuracy: 0.9977\n",
      "Epoch 91/100\n",
      "4395/4395 - 0s - loss: 0.0122 - accuracy: 0.9977\n",
      "Epoch 92/100\n",
      "4395/4395 - 0s - loss: 0.0116 - accuracy: 0.9977\n",
      "Epoch 93/100\n",
      "4395/4395 - 0s - loss: 0.0118 - accuracy: 0.9975\n",
      "Epoch 94/100\n",
      "4395/4395 - 0s - loss: 0.0117 - accuracy: 0.9977\n",
      "Epoch 95/100\n",
      "4395/4395 - 0s - loss: 0.0123 - accuracy: 0.9977\n",
      "Epoch 96/100\n",
      "4395/4395 - 0s - loss: 0.0118 - accuracy: 0.9977\n",
      "Epoch 97/100\n",
      "4395/4395 - 0s - loss: 0.0124 - accuracy: 0.9977\n",
      "Epoch 98/100\n",
      "4395/4395 - 0s - loss: 0.0119 - accuracy: 0.9977\n",
      "Epoch 99/100\n",
      "4395/4395 - 0s - loss: 0.0125 - accuracy: 0.9977\n",
      "Epoch 100/100\n",
      "4395/4395 - 0s - loss: 0.0117 - accuracy: 0.9977\n"
     ]
    }
   ],
   "source": [
    "finding = model.fit(\n",
    "    X_train_scaled,\n",
    "    y_train_categorical,\n",
    "    epochs=100,\n",
    "    shuffle=True,\n",
    "    verbose=2\n",
    ")"
   ]
  },
  {
   "cell_type": "code",
   "execution_count": 152,
   "id": "416a0f54",
   "metadata": {},
   "outputs": [
    {
     "name": "stdout",
     "output_type": "stream",
     "text": [
      "1466/1466 - 0s - loss: 0.0151 - accuracy: 0.9966\n",
      "Normal Neural Network - Loss: 0.015111825970798161, Accuracy: 0.9965893626213074\n"
     ]
    }
   ],
   "source": [
    "model_loss, model_accuracy = model.evaluate(\n",
    "    X_test_scaled, y_test_categorical, verbose=2)\n",
    "print(\n",
    "    f\"Normal Neural Network - Loss: {model_loss}, Accuracy: {model_accuracy}\")"
   ]
  },
  {
   "cell_type": "code",
   "execution_count": 153,
   "id": "b5280c04",
   "metadata": {},
   "outputs": [],
   "source": [
    "encoded_predictions = model.predict_classes(X_test_scaled[:5])\n",
    "prediction_labels = label_encoder.inverse_transform(encoded_predictions)"
   ]
  },
  {
   "cell_type": "code",
   "execution_count": 154,
   "id": "3492deba",
   "metadata": {},
   "outputs": [
    {
     "name": "stdout",
     "output_type": "stream",
     "text": [
      "Predicted classes: [3 3 1 2 3]\n",
      "Actual Labels: [3, 3, 1, 2, 3, 1, 2, 3, 3, 2, 2, 3, 0, 3, 3]\n"
     ]
    }
   ],
   "source": [
    "print(f\"Predicted classes: {prediction_labels}\")\n",
    "print(f\"Actual Labels: {list(y_test[:15])}\")"
   ]
  },
  {
   "cell_type": "code",
   "execution_count": 155,
   "id": "1e98e52a",
   "metadata": {},
   "outputs": [],
   "source": [
    "def visualize_training_finding(finding):\n",
    "    \"\"\"\n",
    "    Plots the loss and accuracy for the training and testing data\n",
    "    \"\"\"\n",
    "    history = finding.history\n",
    "    plt.figure(figsize=(12,4))\n",
    "    \n",
    "    plt.plot(history['loss'])\n",
    "    plt.legend(['val_loss', 'loss'])\n",
    "    plt.title('Litcoin Loss')\n",
    "    plt.xlabel('Litcoin Epochs')\n",
    "    plt.ylabel('Litcoin Loss')\n",
    "    plt.show()\n",
    "    \n",
    "    plt.figure(figsize=(12,4))\n",
    "    plt.plot(history['accuracy'])\n",
    "    plt.plot(history['accuracy'])\n",
    "    plt.legend(['model_loss', 'model_accuracy'])\n",
    "    plt.title('Litcoin Accuracy')\n",
    "    plt.xlabel('Litcoin Epochs')\n",
    "    plt.ylabel('Litcoin Accuracy')\n",
    "    plt.show()"
   ]
  },
  {
   "cell_type": "code",
   "execution_count": 156,
   "id": "3596e6d8",
   "metadata": {},
   "outputs": [
    {
     "data": {
      "image/png": "[encoded data removed]",
      "text/plain": [
       "<Figure size 864x288 with 1 Axes>"
      ]
     },
     "metadata": {},
     "output_type": "display_data"
    },
    {
     "data": {
      "image/png": "[encoded data removed]",
      "text/plain": [
       "<Figure size 864x288 with 1 Axes>"
      ]
     },
     "metadata": {},
     "output_type": "display_data"
    }
   ],
   "source": [
    "visualize_training_finding(finding)"
   ]
  },
  {
   "cell_type": "code",
   "execution_count": 157,
   "id": "f0d51948",
   "metadata": {},
   "outputs": [],
   "source": [
    "from sklearn.neighbors import KNeighborsClassifier"
   ]
  },
  {
   "cell_type": "code",
   "execution_count": 158,
   "id": "c98fb1f3",
   "metadata": {},
   "outputs": [
    {
     "name": "stdout",
     "output_type": "stream",
     "text": [
      "k: 1, Train/Test Score: 0.998/0.997\n",
      "k: 3, Train/Test Score: 0.998/0.997\n",
      "k: 5, Train/Test Score: 0.998/0.997\n",
      "k: 7, Train/Test Score: 0.998/0.997\n",
      "k: 9, Train/Test Score: 0.998/0.997\n",
      "k: 11, Train/Test Score: 0.998/0.997\n",
      "k: 13, Train/Test Score: 0.998/0.997\n",
      "k: 15, Train/Test Score: 0.998/0.997\n",
      "k: 17, Train/Test Score: 0.998/0.997\n",
      "k: 19, Train/Test Score: 0.998/0.997\n"
     ]
    },
    {
     "data": {
      "image/png": "[encoded data removed]",
      "text/plain": [
       "<Figure size 432x288 with 1 Axes>"
      ]
     },
     "metadata": {},
     "output_type": "display_data"
    }
   ],
   "source": [
    "# Loop through different k values to see which has the highest accuracy\n",
    "# Note: We only use odd numbers because we don't want any ties\n",
    "train_scores = []\n",
    "test_scores = []\n",
    "for k in range(1, 20, 2):\n",
    "    knn = KNeighborsClassifier(n_neighbors=k)\n",
    "    knn.fit(X_train_scaled, y_train)\n",
    "    train_score = knn.score(X_train_scaled, y_train)\n",
    "    test_score = knn.score(X_test_scaled, y_test)\n",
    "    train_scores.append(train_score)\n",
    "    test_scores.append(test_score)\n",
    "    print(f\"k: {k}, Train/Test Score: {train_score:.3f}/{test_score:.3f}\")\n",
    "    \n",
    "    \n",
    "plt.plot(range(1, 20, 2), train_scores, marker='o')\n",
    "plt.plot(range(1, 20, 2), test_scores, marker=\"x\")\n",
    "plt.xlabel(\"k neighbors\")\n",
    "plt.ylabel(\"Testing accuracy Score\")\n",
    "plt.show()"
   ]
  },
  {
   "cell_type": "code",
   "execution_count": 159,
   "id": "6ee3c0ce",
   "metadata": {},
   "outputs": [
    {
     "name": "stdout",
     "output_type": "stream",
     "text": [
      "k=9 Test Acc: 0.997\n"
     ]
    }
   ],
   "source": [
    "knn = KNeighborsClassifier(n_neighbors=9)\n",
    "knn.fit(X_train_scaled, y_train)\n",
    "print('k=9 Test Acc: %.3f' % knn.score(X_test_scaled, y_test))"
   ]
  }
 ],
 "metadata": {
  "kernelspec": {
   "display_name": "Python [conda env:PythonAdv] *",
   "language": "python",
   "name": "conda-env-PythonAdv-py"
  },
  "language_info": {
   "codemirror_mode": {
    "name": "ipython",
    "version": 3
   },
   "file_extension": ".py",
   "mimetype": "text/x-python",
   "name": "python",
   "nbconvert_exporter": "python",
   "pygments_lexer": "ipython3",
   "version": "3.6.13"
  }
 },
 "nbformat": 4,
 "nbformat_minor": 5
}
